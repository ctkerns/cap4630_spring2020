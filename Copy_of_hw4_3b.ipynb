{
  "nbformat": 4,
  "nbformat_minor": 0,
  "metadata": {
    "colab": {
      "name": "Copy of hw4_3b.ipynb",
      "provenance": [],
      "collapsed_sections": [],
      "include_colab_link": true
    },
    "kernelspec": {
      "name": "python3",
      "display_name": "Python 3"
    },
    "accelerator": "GPU"
  },
  "cells": [
    {
      "cell_type": "markdown",
      "metadata": {
        "id": "view-in-github",
        "colab_type": "text"
      },
      "source": [
        "<a href=\"https://colab.research.google.com/github/ctkerns/cap4630_spring2020/blob/master/Copy_of_hw4_3b.ipynb\" target=\"_parent\"><img src=\"https://colab.research.google.com/assets/colab-badge.svg\" alt=\"Open In Colab\"/></a>"
      ]
    },
    {
      "cell_type": "markdown",
      "metadata": {
        "id": "KSrgMJ5vKFzQ",
        "colab_type": "text"
      },
      "source": [
        "# Fine-tuning VGG16 "
      ]
    },
    {
      "cell_type": "markdown",
      "metadata": {
        "id": "TIW7bZaAK-Hf",
        "colab_type": "text"
      },
      "source": [
        "This is based on section 5.3 *Using a pretrained convnet* of the book *Deep learning with Python* by Francois Chollet. I have made several changes to the code. I use the data that is already provided by Google. I don't download the data from Kaggle as in the deep learning book."
      ]
    },
    {
      "cell_type": "markdown",
      "metadata": {
        "id": "nsBq__dVo2pj",
        "colab_type": "text"
      },
      "source": [
        "## Feature extraction"
      ]
    },
    {
      "cell_type": "markdown",
      "metadata": {
        "id": "0g6ETAM9o54M",
        "colab_type": "text"
      },
      "source": [
        "Feature extraction consists of using the representations learned by a previous network to extract interesting features from new samples. These features are then run through a new classifier, which is trained from scratch.\n",
        "\n",
        "We will use here the convolutional base of the VGG16 model to extract the features. We will feed these features to a densely connected classifier with dropout. We will fine-tune some layers."
      ]
    },
    {
      "cell_type": "markdown",
      "metadata": {
        "id": "BqIG8QHMLNOn",
        "colab_type": "text"
      },
      "source": [
        "## Download the data"
      ]
    },
    {
      "cell_type": "markdown",
      "metadata": {
        "id": "t3I1jd7cKV6_",
        "colab_type": "text"
      },
      "source": [
        "Download the example data, a zip. of 2,000 JPG pictures of cats and dogs and extract it locally in ```/tmp```.\n",
        "\n"
      ]
    },
    {
      "cell_type": "code",
      "metadata": {
        "id": "JWjprHEXJ5Qi",
        "colab_type": "code",
        "outputId": "0248bdd0-e989-46b4-90ca-f68bb6f27a0e",
        "colab": {
          "base_uri": "https://localhost:8080/",
          "height": 223
        }
      },
      "source": [
        "!wget --no-check-certificate \\\n",
        "    https://storage.googleapis.com/mledu-datasets/cats_and_dogs_filtered.zip \\\n",
        "    -O /tmp/cats_and_dogs_filtered.zip"
      ],
      "execution_count": 1,
      "outputs": [
        {
          "output_type": "stream",
          "text": [
            "--2020-04-20 13:16:59--  https://storage.googleapis.com/mledu-datasets/cats_and_dogs_filtered.zip\n",
            "Resolving storage.googleapis.com (storage.googleapis.com)... 108.177.119.128, 2a00:1450:4013:c00::80\n",
            "Connecting to storage.googleapis.com (storage.googleapis.com)|108.177.119.128|:443... connected.\n",
            "HTTP request sent, awaiting response... 200 OK\n",
            "Length: 68606236 (65M) [application/zip]\n",
            "Saving to: ‘/tmp/cats_and_dogs_filtered.zip’\n",
            "\n",
            "/tmp/cats_and_dogs_ 100%[===================>]  65.43M  84.3MB/s    in 0.8s    \n",
            "\n",
            "2020-04-20 13:17:00 (84.3 MB/s) - ‘/tmp/cats_and_dogs_filtered.zip’ saved [68606236/68606236]\n",
            "\n"
          ],
          "name": "stdout"
        }
      ]
    },
    {
      "cell_type": "code",
      "metadata": {
        "id": "WvoHtdA-K6Rw",
        "colab_type": "code",
        "colab": {}
      },
      "source": [
        "import os\n",
        "import zipfile\n",
        "\n",
        "local_zip = '/tmp/cats_and_dogs_filtered.zip'\n",
        "zip_ref = zipfile.ZipFile(local_zip, 'r')\n",
        "zip_ref.extractall('/tmp')\n",
        "zip_ref.close()"
      ],
      "execution_count": 0,
      "outputs": []
    },
    {
      "cell_type": "markdown",
      "metadata": {
        "id": "shZiOBnJMyy_",
        "colab_type": "text"
      },
      "source": [
        "Note that the data provided by Google does not have a test set."
      ]
    },
    {
      "cell_type": "code",
      "metadata": {
        "id": "dL8ikM89LlsH",
        "colab_type": "code",
        "colab": {}
      },
      "source": [
        "base_dir = '/tmp/cats_and_dogs_filtered'\n",
        "train_dir = os.path.join(base_dir, 'train')\n",
        "validation_dir = os.path.join(base_dir, 'validation')\n",
        "\n",
        "# Directory with our training cat pictures\n",
        "train_cats_dir = os.path.join(train_dir, 'cats')\n",
        "\n",
        "# Directory with our training dog pictures\n",
        "train_dogs_dir = os.path.join(train_dir, 'dogs')\n",
        "\n",
        "# Directory with our validation cat pictures\n",
        "validation_cats_dir = os.path.join(validation_dir, 'cats')\n",
        "\n",
        "# Directory with our validation dog pictures\n",
        "validation_dogs_dir = os.path.join(validation_dir, 'dogs')"
      ],
      "execution_count": 0,
      "outputs": []
    },
    {
      "cell_type": "markdown",
      "metadata": {
        "id": "inyP8bcdXnn-",
        "colab_type": "text"
      },
      "source": [
        "## Build network with VGG16 convolution base and custom densely connected layers"
      ]
    },
    {
      "cell_type": "markdown",
      "metadata": {
        "id": "kQ48W5T9rHWu",
        "colab_type": "text"
      },
      "source": [
        "### Load the convolutional base\n",
        "*Switched VGG16 with Xception - Christopher Kerns*"
      ]
    },
    {
      "cell_type": "code",
      "metadata": {
        "id": "Y0FgtANCXm_H",
        "colab_type": "code",
        "colab": {
          "base_uri": "https://localhost:8080/",
          "height": 93
        },
        "outputId": "aa624d72-dcca-4d3a-dc93-93d8c52d2f55"
      },
      "source": [
        "from keras.applications import Xception\n",
        "\n",
        "conv_base = Xception(\n",
        "    weights='imagenet', \n",
        "    include_top=False, \n",
        "    input_shape=(150, 150, 3))"
      ],
      "execution_count": 4,
      "outputs": [
        {
          "output_type": "stream",
          "text": [
            "Using TensorFlow backend.\n"
          ],
          "name": "stderr"
        },
        {
          "output_type": "stream",
          "text": [
            "Downloading data from https://github.com/fchollet/deep-learning-models/releases/download/v0.4/xception_weights_tf_dim_ordering_tf_kernels_notop.h5\n",
            "83689472/83683744 [==============================] - 3s 0us/step\n"
          ],
          "name": "stdout"
        }
      ]
    },
    {
      "cell_type": "markdown",
      "metadata": {
        "id": "D6OBHOO9q1ou",
        "colab_type": "text"
      },
      "source": [
        "### Freeze the convolutional base"
      ]
    },
    {
      "cell_type": "code",
      "metadata": {
        "id": "UleRo4Dpq6Ld",
        "colab_type": "code",
        "colab": {}
      },
      "source": [
        "conv_base.trainable = False"
      ],
      "execution_count": 0,
      "outputs": []
    },
    {
      "cell_type": "markdown",
      "metadata": {
        "id": "Qfx6PqhPrb7Q",
        "colab_type": "text"
      },
      "source": [
        "### Concatenate the convolutional base and densely connected layers\n",
        "*I want to try increasing the size of the relu layer this time. My first model only reached around ~95% accuracy and I think that could be improved. Also, Xception is a much wider model with way more output nodes than the VGG16 model. I think the last classifier was too much of a bottleneck as there might be too many features to be analyzed by such a simple model.*  \n",
        "*Doing this is bound to increase overfitting, so I will add a dropout to the layer. This will turn off 1/15 of the nodes at a time which will remedy overfitting by forcing the network to generalize data in new ways. -Christopher Kerns*"
      ]
    },
    {
      "cell_type": "code",
      "metadata": {
        "id": "qUpmocDAO3xm",
        "colab_type": "code",
        "colab": {}
      },
      "source": [
        "from keras import layers\n",
        "from keras import models\n",
        "from keras import optimizers\n",
        "\n",
        "model = models.Sequential()\n",
        "model.add(conv_base)\n",
        "model.add(layers.Flatten())\n",
        "model.add(layers.Dense(512, activation='relu'))\n",
        "model.add(layers.Dropout(0.075))\n",
        "model.add(layers.Dense(1, activation='sigmoid'))"
      ],
      "execution_count": 0,
      "outputs": []
    },
    {
      "cell_type": "code",
      "metadata": {
        "id": "Fh6gZSeAjF7c",
        "colab_type": "code",
        "outputId": "85c211c0-88d4-4930-bfa2-7778e03adac8",
        "colab": {
          "base_uri": "https://localhost:8080/",
          "height": 354
        }
      },
      "source": [
        "model.summary()"
      ],
      "execution_count": 7,
      "outputs": [
        {
          "output_type": "stream",
          "text": [
            "Model: \"sequential_1\"\n",
            "_________________________________________________________________\n",
            "Layer (type)                 Output Shape              Param #   \n",
            "=================================================================\n",
            "xception (Model)             (None, 5, 5, 2048)        20861480  \n",
            "_________________________________________________________________\n",
            "flatten_1 (Flatten)          (None, 51200)             0         \n",
            "_________________________________________________________________\n",
            "dense_1 (Dense)              (None, 512)               26214912  \n",
            "_________________________________________________________________\n",
            "dropout_1 (Dropout)          (None, 512)               0         \n",
            "_________________________________________________________________\n",
            "dense_2 (Dense)              (None, 1)                 513       \n",
            "=================================================================\n",
            "Total params: 47,076,905\n",
            "Trainable params: 26,215,425\n",
            "Non-trainable params: 20,861,480\n",
            "_________________________________________________________________\n"
          ],
          "name": "stdout"
        }
      ]
    },
    {
      "cell_type": "markdown",
      "metadata": {
        "id": "eZjBiddhi5Qj",
        "colab_type": "text"
      },
      "source": [
        "## Train the model end to end with frozen convolutional base"
      ]
    },
    {
      "cell_type": "code",
      "metadata": {
        "id": "tfAQlC2Oi41L",
        "colab_type": "code",
        "outputId": "54d9ffad-1fb8-4653-e1a1-61c6dfa09ce6",
        "colab": {
          "base_uri": "https://localhost:8080/",
          "height": 1000
        }
      },
      "source": [
        "from keras.preprocessing.image import ImageDataGenerator\n",
        "from keras import optimizers\n",
        "\n",
        "# data augmentation\n",
        "\n",
        "train_datagen = ImageDataGenerator(\n",
        "    rescale=1./255, \n",
        "    rotation_range=40,\n",
        "    width_shift_range=0.2,\n",
        "    height_shift_range=0.2,\n",
        "    shear_range=0.2,\n",
        "    zoom_range=0.2,\n",
        "    horizontal_flip=True,\n",
        "    fill_mode='nearest'\n",
        ")\n",
        "\n",
        "train_generator = train_datagen.flow_from_directory(\n",
        "    train_dir,\n",
        "    target_size=(150, 150),\n",
        "    batch_size=20,\n",
        "    class_mode='binary')\n",
        "\n",
        "validation_datagen = ImageDataGenerator(rescale=1./255)\n",
        "\n",
        "validation_generator = validation_datagen.flow_from_directory(\n",
        "    validation_dir,\n",
        "    target_size=(150, 150),\n",
        "    batch_size=20,\n",
        "    class_mode='binary')\n",
        "\n",
        "# compile model\n",
        "\n",
        "model.compile(\n",
        "    loss='binary_crossentropy', \n",
        "    optimizer=optimizers.RMSprop(lr=2e-5), \n",
        "    metrics=['acc'])\n",
        "\n",
        "# train\n",
        "\n",
        "history = model.fit_generator(\n",
        "    train_generator,\n",
        "    steps_per_epoch=100,\n",
        "    epochs=30,\n",
        "    validation_data=validation_generator,\n",
        "    validation_steps=50\n",
        ")"
      ],
      "execution_count": 8,
      "outputs": [
        {
          "output_type": "stream",
          "text": [
            "Found 2000 images belonging to 2 classes.\n",
            "Found 1000 images belonging to 2 classes.\n",
            "Epoch 1/30\n",
            "100/100 [==============================] - 30s 296ms/step - loss: 0.4881 - acc: 0.7625 - val_loss: 0.0082 - val_acc: 0.9660\n",
            "Epoch 2/30\n",
            "100/100 [==============================] - 20s 199ms/step - loss: 0.3602 - acc: 0.8280 - val_loss: 0.0125 - val_acc: 0.9550\n",
            "Epoch 3/30\n",
            "100/100 [==============================] - 20s 201ms/step - loss: 0.3687 - acc: 0.8430 - val_loss: 0.0049 - val_acc: 0.9510\n",
            "Epoch 4/30\n",
            "100/100 [==============================] - 20s 201ms/step - loss: 0.3532 - acc: 0.8460 - val_loss: 0.0101 - val_acc: 0.9580\n",
            "Epoch 5/30\n",
            "100/100 [==============================] - 20s 202ms/step - loss: 0.3466 - acc: 0.8415 - val_loss: 0.0188 - val_acc: 0.9700\n",
            "Epoch 6/30\n",
            "100/100 [==============================] - 20s 201ms/step - loss: 0.3281 - acc: 0.8430 - val_loss: 0.6078 - val_acc: 0.9680\n",
            "Epoch 7/30\n",
            "100/100 [==============================] - 20s 201ms/step - loss: 0.3047 - acc: 0.8715 - val_loss: 1.4944e-04 - val_acc: 0.9710\n",
            "Epoch 8/30\n",
            "100/100 [==============================] - 20s 202ms/step - loss: 0.3215 - acc: 0.8605 - val_loss: 1.6082e-04 - val_acc: 0.9620\n",
            "Epoch 9/30\n",
            "100/100 [==============================] - 20s 201ms/step - loss: 0.3050 - acc: 0.8720 - val_loss: 7.4906e-06 - val_acc: 0.9730\n",
            "Epoch 10/30\n",
            "100/100 [==============================] - 20s 200ms/step - loss: 0.3154 - acc: 0.8590 - val_loss: 0.2491 - val_acc: 0.9670\n",
            "Epoch 11/30\n",
            "100/100 [==============================] - 20s 201ms/step - loss: 0.3241 - acc: 0.8660 - val_loss: 0.0221 - val_acc: 0.9660\n",
            "Epoch 12/30\n",
            "100/100 [==============================] - 20s 201ms/step - loss: 0.2958 - acc: 0.8710 - val_loss: 0.7996 - val_acc: 0.9730\n",
            "Epoch 13/30\n",
            "100/100 [==============================] - 20s 200ms/step - loss: 0.2888 - acc: 0.8730 - val_loss: 2.2011e-05 - val_acc: 0.9590\n",
            "Epoch 14/30\n",
            "100/100 [==============================] - 20s 200ms/step - loss: 0.2945 - acc: 0.8665 - val_loss: 9.9899e-05 - val_acc: 0.9670\n",
            "Epoch 15/30\n",
            "100/100 [==============================] - 20s 200ms/step - loss: 0.2935 - acc: 0.8665 - val_loss: 0.0037 - val_acc: 0.9700\n",
            "Epoch 16/30\n",
            "100/100 [==============================] - 20s 200ms/step - loss: 0.2765 - acc: 0.8800 - val_loss: 0.0174 - val_acc: 0.9580\n",
            "Epoch 17/30\n",
            "100/100 [==============================] - 20s 200ms/step - loss: 0.2776 - acc: 0.8790 - val_loss: 0.7707 - val_acc: 0.9710\n",
            "Epoch 18/30\n",
            "100/100 [==============================] - 20s 200ms/step - loss: 0.2948 - acc: 0.8740 - val_loss: 0.4034 - val_acc: 0.9690\n",
            "Epoch 19/30\n",
            "100/100 [==============================] - 20s 201ms/step - loss: 0.2875 - acc: 0.8805 - val_loss: 0.1426 - val_acc: 0.9680\n",
            "Epoch 20/30\n",
            "100/100 [==============================] - 20s 200ms/step - loss: 0.2839 - acc: 0.8750 - val_loss: 6.0501e-05 - val_acc: 0.9740\n",
            "Epoch 21/30\n",
            "100/100 [==============================] - 20s 200ms/step - loss: 0.2719 - acc: 0.8890 - val_loss: 0.5120 - val_acc: 0.9560\n",
            "Epoch 22/30\n",
            "100/100 [==============================] - 20s 200ms/step - loss: 0.2637 - acc: 0.8905 - val_loss: 0.0119 - val_acc: 0.9680\n",
            "Epoch 23/30\n",
            "100/100 [==============================] - 20s 201ms/step - loss: 0.2775 - acc: 0.8855 - val_loss: 0.1120 - val_acc: 0.9640\n",
            "Epoch 24/30\n",
            "100/100 [==============================] - 20s 201ms/step - loss: 0.2942 - acc: 0.8815 - val_loss: 3.8914e-04 - val_acc: 0.9720\n",
            "Epoch 25/30\n",
            "100/100 [==============================] - 20s 200ms/step - loss: 0.3037 - acc: 0.8770 - val_loss: 0.0044 - val_acc: 0.9490\n",
            "Epoch 26/30\n",
            "100/100 [==============================] - 20s 201ms/step - loss: 0.2611 - acc: 0.8915 - val_loss: 6.8648e-09 - val_acc: 0.9710\n",
            "Epoch 27/30\n",
            "100/100 [==============================] - 20s 199ms/step - loss: 0.2816 - acc: 0.8810 - val_loss: 0.1047 - val_acc: 0.9460\n",
            "Epoch 28/30\n",
            "100/100 [==============================] - 20s 201ms/step - loss: 0.2629 - acc: 0.8890 - val_loss: 0.2651 - val_acc: 0.9690\n",
            "Epoch 29/30\n",
            "100/100 [==============================] - 20s 201ms/step - loss: 0.2403 - acc: 0.8970 - val_loss: 0.7172 - val_acc: 0.9580\n",
            "Epoch 30/30\n",
            "100/100 [==============================] - 20s 199ms/step - loss: 0.2748 - acc: 0.8935 - val_loss: 8.2106e-06 - val_acc: 0.9660\n"
          ],
          "name": "stdout"
        }
      ]
    },
    {
      "cell_type": "markdown",
      "metadata": {
        "id": "xqRc_vHKc92U",
        "colab_type": "text"
      },
      "source": [
        "## Display curves of loss and accuracy during training"
      ]
    },
    {
      "cell_type": "code",
      "metadata": {
        "id": "ybWwdzz9bwuQ",
        "colab_type": "code",
        "outputId": "c51cbe37-bb4d-4683-c783-6781caed678a",
        "colab": {
          "base_uri": "https://localhost:8080/",
          "height": 545
        }
      },
      "source": [
        "%matplotlib inline\n",
        "\n",
        "import matplotlib.pyplot as plt\n",
        "\n",
        "acc = history.history['acc']\n",
        "val_acc = history.history['val_acc']\n",
        "\n",
        "loss = history.history['loss']\n",
        "val_loss = history.history['val_loss']\n",
        "\n",
        "epochs = range(1, len(acc) + 1)\n",
        "\n",
        "# training and validation accuracy\n",
        "\n",
        "plt.plot(epochs, acc, 'bo', label='training acc')\n",
        "plt.plot(epochs, val_acc, 'b', label='validation acc')\n",
        "plt.title('training and validation accuracy')\n",
        "plt.legend()\n",
        "\n",
        "plt.figure()\n",
        "\n",
        "# training and validation loss\n",
        "\n",
        "plt.plot(epochs, loss, 'bo', label='training loss')\n",
        "plt.plot(epochs, val_loss, 'b', label='validation loss')\n",
        "plt.title('training and validation loss')\n",
        "plt.legend()\n",
        "\n",
        "plt.show()"
      ],
      "execution_count": 9,
      "outputs": [
        {
          "output_type": "display_data",
          "data": {
            "image/png": "[encoded data removed]",
            "text/plain": [
              "<Figure size 432x288 with 1 Axes>"
            ]
          },
          "metadata": {
            "tags": [],
            "needs_background": "light"
          }
        },
        {
          "output_type": "display_data",
          "data": {
            "image/png": "[encoded data removed]",
            "text/plain": [
              "<Figure size 432x288 with 1 Axes>"
            ]
          },
          "metadata": {
            "tags": [],
            "needs_background": "light"
          }
        }
      ]
    },
    {
      "cell_type": "markdown",
      "metadata": {
        "id": "lOWsxpey8lN0",
        "colab_type": "text"
      },
      "source": [
        "## Fine-tuning\n",
        "*This time, I will unfreeze an extra block. This should let the model adapt more to our dataset and reach higher accuracy.*  \n",
        "*I also want to validate that I am doing this correctly so I will print out whether each of the layers are frozen - Christopher Kerns*"
      ]
    },
    {
      "cell_type": "code",
      "metadata": {
        "id": "PwkVMx8N8qMw",
        "colab_type": "code",
        "outputId": "53b83a48-bef7-49df-e381-9cc9f06b462c",
        "colab": {
          "base_uri": "https://localhost:8080/",
          "height": 1000
        }
      },
      "source": [
        "conv_base.trainable = True\n",
        "\n",
        "set_trainable = False\n",
        "for layer in conv_base.layers:\n",
        "  if layer.name == 'block13_sepconv1_act':\n",
        "    set_trainable = True\n",
        "  if set_trainable:\n",
        "    layer.trainable = True\n",
        "  else:\n",
        "    layer.trainable = False\n",
        "\n",
        "for layer in conv_base.layers:\n",
        "    print(layer, layer.trainable)"
      ],
      "execution_count": 10,
      "outputs": [
        {
          "output_type": "stream",
          "text": [
            "<keras.engine.input_layer.InputLayer object at 0x7f8197702898> False\n",
            "<keras.layers.convolutional.Conv2D object at 0x7f810ff40d30> False\n",
            "<keras.layers.normalization.BatchNormalization object at 0x7f810ff40ef0> False\n",
            "<keras.layers.core.Activation object at 0x7f810ff40fd0> False\n",
            "<keras.layers.convolutional.Conv2D object at 0x7f81b37ec208> False\n",
            "<keras.layers.normalization.BatchNormalization object at 0x7f81008dfb38> False\n",
            "<keras.layers.core.Activation object at 0x7f81008df550> False\n",
            "<keras.layers.convolutional.SeparableConv2D object at 0x7f8100044eb8> False\n",
            "<keras.layers.normalization.BatchNormalization object at 0x7f80ea48ba90> False\n",
            "<keras.layers.core.Activation object at 0x7f80ea491940> False\n",
            "<keras.layers.convolutional.SeparableConv2D object at 0x7f81a0ede978> False\n",
            "<keras.layers.normalization.BatchNormalization object at 0x7f80ea4a9240> False\n",
            "<keras.layers.convolutional.Conv2D object at 0x7f81000a5fd0> False\n",
            "<keras.layers.pooling.MaxPooling2D object at 0x7f80ea452ef0> False\n",
            "<keras.layers.normalization.BatchNormalization object at 0x7f810002f390> False\n",
            "<keras.layers.merge.Add object at 0x7f80ea458390> False\n",
            "<keras.layers.core.Activation object at 0x7f80ea477d68> False\n",
            "<keras.layers.convolutional.SeparableConv2D object at 0x7f80ea406eb8> False\n",
            "<keras.layers.normalization.BatchNormalization object at 0x7f80ea40d160> False\n",
            "<keras.layers.core.Activation object at 0x7f80ea42e400> False\n",
            "<keras.layers.convolutional.SeparableConv2D object at 0x7f80ea3bee10> False\n",
            "<keras.layers.normalization.BatchNormalization object at 0x7f80ea3cde48> False\n",
            "<keras.layers.convolutional.Conv2D object at 0x7f80ea458a58> False\n",
            "<keras.layers.pooling.MaxPooling2D object at 0x7f80ea3ebc50> False\n",
            "<keras.layers.normalization.BatchNormalization object at 0x7f80ea471e80> False\n",
            "<keras.layers.merge.Add object at 0x7f80ea3ec0b8> False\n",
            "<keras.layers.core.Activation object at 0x7f80ea38eb70> False\n",
            "<keras.layers.convolutional.SeparableConv2D object at 0x7f80ea3a3f60> False\n",
            "<keras.layers.normalization.BatchNormalization object at 0x7f80ea3a3ef0> False\n",
            "<keras.layers.core.Activation object at 0x7f80ea34ff60> False\n",
            "<keras.layers.convolutional.SeparableConv2D object at 0x7f80ea356c88> False\n",
            "<keras.layers.normalization.BatchNormalization object at 0x7f80ea365be0> False\n",
            "<keras.layers.convolutional.Conv2D object at 0x7f80ea3ec780> False\n",
            "<keras.layers.pooling.MaxPooling2D object at 0x7f80ea302e80> False\n",
            "<keras.layers.normalization.BatchNormalization object at 0x7f80ea383518> False\n",
            "<keras.layers.merge.Add object at 0x7f80ea302ef0> False\n",
            "<keras.layers.core.Activation object at 0x7f80ea3087b8> False\n",
            "<keras.layers.convolutional.SeparableConv2D object at 0x7f80ea308748> False\n",
            "<keras.layers.normalization.BatchNormalization object at 0x7f80ea326a90> False\n",
            "<keras.layers.core.Activation object at 0x7f80ea336e80> False\n",
            "<keras.layers.convolutional.SeparableConv2D object at 0x7f80ea336ef0> False\n",
            "<keras.layers.normalization.BatchNormalization object at 0x7f80ea2d39e8> False\n",
            "<keras.layers.core.Activation object at 0x7f80ea2f1ac8> False\n",
            "<keras.layers.convolutional.SeparableConv2D object at 0x7f80ea2f1a58> False\n",
            "<keras.layers.normalization.BatchNormalization object at 0x7f80ea2f63c8> False\n",
            "<keras.layers.merge.Add object at 0x7f80ea2a4eb8> False\n",
            "<keras.layers.core.Activation object at 0x7f80ea308828> False\n",
            "<keras.layers.convolutional.SeparableConv2D object at 0x7f80ea2a4630> False\n",
            "<keras.layers.normalization.BatchNormalization object at 0x7f80ea2bc128> False\n",
            "<keras.layers.core.Activation object at 0x7f80ea259d68> False\n",
            "<keras.layers.convolutional.SeparableConv2D object at 0x7f80ea259da0> False\n",
            "<keras.layers.normalization.BatchNormalization object at 0x7f80ea26bcf8> False\n",
            "<keras.layers.core.Activation object at 0x7f80ea207f98> False\n",
            "<keras.layers.convolutional.SeparableConv2D object at 0x7f80ea207be0> False\n",
            "<keras.layers.normalization.BatchNormalization object at 0x7f80ea220b00> False\n",
            "<keras.layers.merge.Add object at 0x7f80ea23dbe0> False\n",
            "<keras.layers.core.Activation object at 0x7f80ea2a45f8> False\n",
            "<keras.layers.convolutional.SeparableConv2D object at 0x7f80ea23de48> False\n",
            "<keras.layers.normalization.BatchNormalization object at 0x7f80ea1d8668> False\n",
            "<keras.layers.core.Activation object at 0x7f80ea1f49b0> False\n",
            "<keras.layers.convolutional.SeparableConv2D object at 0x7f80ea1f4940> False\n",
            "<keras.layers.normalization.BatchNormalization object at 0x7f80ea1fa2b0> False\n",
            "<keras.layers.core.Activation object at 0x7f80ea19acc0> False\n",
            "<keras.layers.convolutional.SeparableConv2D object at 0x7f80ea1aaeb8> False\n",
            "<keras.layers.normalization.BatchNormalization object at 0x7f80ea1bafd0> False\n",
            "<keras.layers.merge.Add object at 0x7f80ea157cf8> False\n",
            "<keras.layers.core.Activation object at 0x7f80ea23db38> False\n",
            "<keras.layers.convolutional.SeparableConv2D object at 0x7f80ea15f160> False\n",
            "<keras.layers.normalization.BatchNormalization object at 0x7f80ea170ba8> False\n",
            "<keras.layers.core.Activation object at 0x7f80ea10ae80> False\n",
            "<keras.layers.convolutional.SeparableConv2D object at 0x7f80ea10aef0> False\n",
            "<keras.layers.normalization.BatchNormalization object at 0x7f80ea1269e8> False\n",
            "<keras.layers.core.Activation object at 0x7f80ea0beac8> False\n",
            "<keras.layers.convolutional.SeparableConv2D object at 0x7f80ea0bea58> False\n",
            "<keras.layers.normalization.BatchNormalization object at 0x7f80ea0c53c8> False\n",
            "<keras.layers.merge.Add object at 0x7f80ea0f6eb8> False\n",
            "<keras.layers.core.Activation object at 0x7f80ea15f0b8> False\n",
            "<keras.layers.convolutional.SeparableConv2D object at 0x7f80ea0f6630> False\n",
            "<keras.layers.normalization.BatchNormalization object at 0x7f80ea08e128> False\n",
            "<keras.layers.core.Activation object at 0x7f80ea0aad68> False\n",
            "<keras.layers.convolutional.SeparableConv2D object at 0x7f80ea0aada0> False\n",
            "<keras.layers.normalization.BatchNormalization object at 0x7f80ea0bdcf8> False\n",
            "<keras.layers.core.Activation object at 0x7f80ea058f98> False\n",
            "<keras.layers.convolutional.SeparableConv2D object at 0x7f80ea058be0> False\n",
            "<keras.layers.normalization.BatchNormalization object at 0x7f80ea070b00> False\n",
            "<keras.layers.merge.Add object at 0x7f80de7cdbe0> False\n",
            "<keras.layers.core.Activation object at 0x7f80ea0f65f8> False\n",
            "<keras.layers.convolutional.SeparableConv2D object at 0x7f80de7cdeb8> False\n",
            "<keras.layers.normalization.BatchNormalization object at 0x7f80de7e5668> False\n",
            "<keras.layers.core.Activation object at 0x7f80de7829b0> False\n",
            "<keras.layers.convolutional.SeparableConv2D object at 0x7f80de782940> False\n",
            "<keras.layers.normalization.BatchNormalization object at 0x7f80de7862b0> False\n",
            "<keras.layers.core.Activation object at 0x7f80de7a9cc0> False\n",
            "<keras.layers.convolutional.SeparableConv2D object at 0x7f80de7b5eb8> False\n",
            "<keras.layers.normalization.BatchNormalization object at 0x7f80de747fd0> False\n",
            "<keras.layers.merge.Add object at 0x7f80de767cf8> False\n",
            "<keras.layers.core.Activation object at 0x7f80de7cdb38> False\n",
            "<keras.layers.convolutional.SeparableConv2D object at 0x7f80de76d160> False\n",
            "<keras.layers.normalization.BatchNormalization object at 0x7f80de6ffba8> False\n",
            "<keras.layers.core.Activation object at 0x7f80de71de80> False\n",
            "<keras.layers.convolutional.SeparableConv2D object at 0x7f80de71def0> False\n",
            "<keras.layers.normalization.BatchNormalization object at 0x7f80de7349e8> False\n",
            "<keras.layers.core.Activation object at 0x7f80de6d1ac8> False\n",
            "<keras.layers.convolutional.SeparableConv2D object at 0x7f80de6d1a58> False\n",
            "<keras.layers.normalization.BatchNormalization object at 0x7f80de6d63c8> False\n",
            "<keras.layers.merge.Add object at 0x7f80de6fbeb8> False\n",
            "<keras.layers.core.Activation object at 0x7f80de76d0b8> False\n",
            "<keras.layers.convolutional.SeparableConv2D object at 0x7f80de6fb630> False\n",
            "<keras.layers.normalization.BatchNormalization object at 0x7f80de69d128> False\n",
            "<keras.layers.core.Activation object at 0x7f80de6bbd68> False\n",
            "<keras.layers.convolutional.SeparableConv2D object at 0x7f80de6bbda0> False\n",
            "<keras.layers.normalization.BatchNormalization object at 0x7f80de64ecf8> False\n",
            "<keras.layers.core.Activation object at 0x7f80de668f98> False\n",
            "<keras.layers.convolutional.SeparableConv2D object at 0x7f80de668be0> False\n",
            "<keras.layers.normalization.BatchNormalization object at 0x7f80de600b00> False\n",
            "<keras.layers.merge.Add object at 0x7f80de61ebe0> False\n",
            "<keras.layers.core.Activation object at 0x7f80de5ceef0> True\n",
            "<keras.layers.convolutional.SeparableConv2D object at 0x7f80de5d38d0> True\n",
            "<keras.layers.normalization.BatchNormalization object at 0x7f80de5e6ba8> True\n",
            "<keras.layers.core.Activation object at 0x7f80de584c88> True\n",
            "<keras.layers.convolutional.SeparableConv2D object at 0x7f80de584c18> True\n",
            "<keras.layers.normalization.BatchNormalization object at 0x7f80de598780> True\n",
            "<keras.layers.convolutional.Conv2D object at 0x7f80de61ee48> True\n",
            "<keras.layers.pooling.MaxPooling2D object at 0x7f80de5b8b00> True\n",
            "<keras.layers.normalization.BatchNormalization object at 0x7f80de6385c0> True\n",
            "<keras.layers.merge.Add object at 0x7f80de5b8860> True\n",
            "<keras.layers.convolutional.SeparableConv2D object at 0x7f80de5b8f28> True\n",
            "<keras.layers.normalization.BatchNormalization object at 0x7f80de55d2e8> True\n",
            "<keras.layers.core.Activation object at 0x7f80de56be48> True\n",
            "<keras.layers.convolutional.SeparableConv2D object at 0x7f80de56be80> True\n",
            "<keras.layers.normalization.BatchNormalization object at 0x7f80de4fef28> True\n",
            "<keras.layers.core.Activation object at 0x7f80de51ecc0> True\n"
          ],
          "name": "stdout"
        }
      ]
    },
    {
      "cell_type": "code",
      "metadata": {
        "id": "DyN-J7rs9cvo",
        "colab_type": "code",
        "outputId": "d9281216-6fcb-4c77-ca80-6a49c5a6d888",
        "colab": {
          "base_uri": "https://localhost:8080/",
          "height": 1000
        }
      },
      "source": [
        "# compile model\n",
        "\n",
        "model.compile(\n",
        "    loss='binary_crossentropy',\n",
        "    #\n",
        "    # choose a smaller learning rate\n",
        "    #\n",
        "    optimizer=optimizers.RMSprop(lr=1e-5), \n",
        "    metrics=['acc'])\n",
        "\n",
        "# train\n",
        "\n",
        "history = model.fit_generator(\n",
        "    train_generator,\n",
        "    steps_per_epoch=100,\n",
        "    epochs=100,\n",
        "    validation_data=validation_generator,\n",
        "    validation_steps=50)"
      ],
      "execution_count": 11,
      "outputs": [
        {
          "output_type": "stream",
          "text": [
            "Epoch 1/100\n",
            "100/100 [==============================] - 26s 262ms/step - loss: 0.2440 - acc: 0.8990 - val_loss: 0.0144 - val_acc: 0.9490\n",
            "Epoch 2/100\n",
            "100/100 [==============================] - 22s 215ms/step - loss: 0.2290 - acc: 0.9080 - val_loss: 0.4686 - val_acc: 0.9460\n",
            "Epoch 3/100\n",
            "100/100 [==============================] - 21s 215ms/step - loss: 0.2552 - acc: 0.9000 - val_loss: 0.0334 - val_acc: 0.9460\n",
            "Epoch 4/100\n",
            "100/100 [==============================] - 22s 217ms/step - loss: 0.2217 - acc: 0.9080 - val_loss: 0.0946 - val_acc: 0.9250\n",
            "Epoch 5/100\n",
            "100/100 [==============================] - 22s 215ms/step - loss: 0.2254 - acc: 0.9110 - val_loss: 0.2464 - val_acc: 0.9410\n",
            "Epoch 6/100\n",
            "100/100 [==============================] - 21s 214ms/step - loss: 0.2002 - acc: 0.9175 - val_loss: 0.0246 - val_acc: 0.9460\n",
            "Epoch 7/100\n",
            "100/100 [==============================] - 22s 216ms/step - loss: 0.1874 - acc: 0.9185 - val_loss: 0.2798 - val_acc: 0.9380\n",
            "Epoch 8/100\n",
            "100/100 [==============================] - 22s 215ms/step - loss: 0.2108 - acc: 0.9200 - val_loss: 0.0295 - val_acc: 0.9270\n",
            "Epoch 9/100\n",
            "100/100 [==============================] - 21s 215ms/step - loss: 0.2273 - acc: 0.9035 - val_loss: 0.0465 - val_acc: 0.9380\n",
            "Epoch 10/100\n",
            "100/100 [==============================] - 22s 215ms/step - loss: 0.1875 - acc: 0.9205 - val_loss: 0.0657 - val_acc: 0.9350\n",
            "Epoch 11/100\n",
            "100/100 [==============================] - 22s 216ms/step - loss: 0.1786 - acc: 0.9325 - val_loss: 0.0175 - val_acc: 0.9330\n",
            "Epoch 12/100\n",
            "100/100 [==============================] - 22s 215ms/step - loss: 0.1965 - acc: 0.9245 - val_loss: 0.4266 - val_acc: 0.9400\n",
            "Epoch 13/100\n",
            "100/100 [==============================] - 21s 213ms/step - loss: 0.1767 - acc: 0.9265 - val_loss: 0.1072 - val_acc: 0.9400\n",
            "Epoch 14/100\n",
            "100/100 [==============================] - 21s 212ms/step - loss: 0.1906 - acc: 0.9230 - val_loss: 0.0923 - val_acc: 0.9420\n",
            "Epoch 15/100\n",
            "100/100 [==============================] - 21s 214ms/step - loss: 0.1755 - acc: 0.9305 - val_loss: 0.0233 - val_acc: 0.9380\n",
            "Epoch 16/100\n",
            "100/100 [==============================] - 21s 213ms/step - loss: 0.1898 - acc: 0.9305 - val_loss: 0.0891 - val_acc: 0.9360\n",
            "Epoch 17/100\n",
            "100/100 [==============================] - 21s 213ms/step - loss: 0.1641 - acc: 0.9325 - val_loss: 0.2506 - val_acc: 0.9260\n",
            "Epoch 18/100\n",
            "100/100 [==============================] - 21s 212ms/step - loss: 0.1537 - acc: 0.9385 - val_loss: 0.2748 - val_acc: 0.9340\n",
            "Epoch 19/100\n",
            "100/100 [==============================] - 21s 212ms/step - loss: 0.1790 - acc: 0.9305 - val_loss: 0.0762 - val_acc: 0.9280\n",
            "Epoch 20/100\n",
            "100/100 [==============================] - 21s 212ms/step - loss: 0.1824 - acc: 0.9205 - val_loss: 0.0725 - val_acc: 0.9390\n",
            "Epoch 21/100\n",
            "100/100 [==============================] - 21s 213ms/step - loss: 0.1554 - acc: 0.9355 - val_loss: 0.2221 - val_acc: 0.9340\n",
            "Epoch 22/100\n",
            "100/100 [==============================] - 22s 216ms/step - loss: 0.1500 - acc: 0.9440 - val_loss: 0.0570 - val_acc: 0.9340\n",
            "Epoch 23/100\n",
            "100/100 [==============================] - 21s 214ms/step - loss: 0.1629 - acc: 0.9355 - val_loss: 0.7571 - val_acc: 0.9390\n",
            "Epoch 24/100\n",
            "100/100 [==============================] - 21s 211ms/step - loss: 0.1483 - acc: 0.9455 - val_loss: 0.1712 - val_acc: 0.9270\n",
            "Epoch 25/100\n",
            "100/100 [==============================] - 21s 213ms/step - loss: 0.1795 - acc: 0.9240 - val_loss: 0.2536 - val_acc: 0.9300\n",
            "Epoch 26/100\n",
            "100/100 [==============================] - 21s 213ms/step - loss: 0.1528 - acc: 0.9430 - val_loss: 0.4410 - val_acc: 0.9390\n",
            "Epoch 27/100\n",
            "100/100 [==============================] - 21s 212ms/step - loss: 0.1450 - acc: 0.9450 - val_loss: 0.0540 - val_acc: 0.9420\n",
            "Epoch 28/100\n",
            "100/100 [==============================] - 21s 212ms/step - loss: 0.1661 - acc: 0.9290 - val_loss: 0.5671 - val_acc: 0.9430\n",
            "Epoch 29/100\n",
            "100/100 [==============================] - 21s 212ms/step - loss: 0.1515 - acc: 0.9440 - val_loss: 0.1703 - val_acc: 0.9440\n",
            "Epoch 30/100\n",
            "100/100 [==============================] - 21s 213ms/step - loss: 0.1477 - acc: 0.9485 - val_loss: 0.0580 - val_acc: 0.9420\n",
            "Epoch 31/100\n",
            "100/100 [==============================] - 21s 211ms/step - loss: 0.1421 - acc: 0.9375 - val_loss: 0.0435 - val_acc: 0.9430\n",
            "Epoch 32/100\n",
            "100/100 [==============================] - 21s 212ms/step - loss: 0.1437 - acc: 0.9410 - val_loss: 0.2681 - val_acc: 0.9170\n",
            "Epoch 33/100\n",
            "100/100 [==============================] - 21s 212ms/step - loss: 0.1432 - acc: 0.9400 - val_loss: 0.1623 - val_acc: 0.9460\n",
            "Epoch 34/100\n",
            "100/100 [==============================] - 21s 214ms/step - loss: 0.1387 - acc: 0.9525 - val_loss: 0.0323 - val_acc: 0.9430\n",
            "Epoch 35/100\n",
            "100/100 [==============================] - 21s 212ms/step - loss: 0.1377 - acc: 0.9490 - val_loss: 0.3080 - val_acc: 0.9430\n",
            "Epoch 36/100\n",
            "100/100 [==============================] - 21s 212ms/step - loss: 0.1294 - acc: 0.9540 - val_loss: 0.0312 - val_acc: 0.9230\n",
            "Epoch 37/100\n",
            "100/100 [==============================] - 21s 213ms/step - loss: 0.1317 - acc: 0.9470 - val_loss: 0.0384 - val_acc: 0.9470\n",
            "Epoch 38/100\n",
            "100/100 [==============================] - 21s 213ms/step - loss: 0.1373 - acc: 0.9500 - val_loss: 0.1608 - val_acc: 0.9440\n",
            "Epoch 39/100\n",
            "100/100 [==============================] - 21s 212ms/step - loss: 0.1174 - acc: 0.9540 - val_loss: 0.0925 - val_acc: 0.9450\n",
            "Epoch 40/100\n",
            "100/100 [==============================] - 21s 212ms/step - loss: 0.1663 - acc: 0.9380 - val_loss: 0.0200 - val_acc: 0.9510\n",
            "Epoch 41/100\n",
            "100/100 [==============================] - 21s 212ms/step - loss: 0.1070 - acc: 0.9595 - val_loss: 0.1543 - val_acc: 0.9480\n",
            "Epoch 42/100\n",
            "100/100 [==============================] - 21s 211ms/step - loss: 0.1216 - acc: 0.9565 - val_loss: 0.0013 - val_acc: 0.9450\n",
            "Epoch 43/100\n",
            "100/100 [==============================] - 21s 211ms/step - loss: 0.1182 - acc: 0.9530 - val_loss: 0.0140 - val_acc: 0.9450\n",
            "Epoch 44/100\n",
            "100/100 [==============================] - 21s 213ms/step - loss: 0.1058 - acc: 0.9590 - val_loss: 0.2948 - val_acc: 0.9250\n",
            "Epoch 45/100\n",
            "100/100 [==============================] - 21s 213ms/step - loss: 0.1151 - acc: 0.9585 - val_loss: 0.0373 - val_acc: 0.9490\n",
            "Epoch 46/100\n",
            "100/100 [==============================] - 21s 212ms/step - loss: 0.1078 - acc: 0.9580 - val_loss: 0.3300 - val_acc: 0.9360\n",
            "Epoch 47/100\n",
            "100/100 [==============================] - 21s 212ms/step - loss: 0.1298 - acc: 0.9540 - val_loss: 0.4906 - val_acc: 0.9410\n",
            "Epoch 48/100\n",
            "100/100 [==============================] - 21s 211ms/step - loss: 0.1215 - acc: 0.9600 - val_loss: 0.6564 - val_acc: 0.9280\n",
            "Epoch 49/100\n",
            "100/100 [==============================] - 21s 212ms/step - loss: 0.1443 - acc: 0.9475 - val_loss: 0.0893 - val_acc: 0.9360\n",
            "Epoch 50/100\n",
            "100/100 [==============================] - 21s 211ms/step - loss: 0.1300 - acc: 0.9530 - val_loss: 0.1738 - val_acc: 0.9310\n",
            "Epoch 51/100\n",
            "100/100 [==============================] - 21s 213ms/step - loss: 0.1106 - acc: 0.9600 - val_loss: 0.3976 - val_acc: 0.9370\n",
            "Epoch 52/100\n",
            "100/100 [==============================] - 21s 213ms/step - loss: 0.1066 - acc: 0.9645 - val_loss: 0.0199 - val_acc: 0.9430\n",
            "Epoch 53/100\n",
            "100/100 [==============================] - 21s 213ms/step - loss: 0.1006 - acc: 0.9650 - val_loss: 0.0367 - val_acc: 0.9370\n",
            "Epoch 54/100\n",
            "100/100 [==============================] - 21s 212ms/step - loss: 0.1115 - acc: 0.9515 - val_loss: 0.5714 - val_acc: 0.9330\n",
            "Epoch 55/100\n",
            "100/100 [==============================] - 21s 211ms/step - loss: 0.1247 - acc: 0.9545 - val_loss: 0.1558 - val_acc: 0.9450\n",
            "Epoch 56/100\n",
            "100/100 [==============================] - 21s 212ms/step - loss: 0.1119 - acc: 0.9635 - val_loss: 0.2408 - val_acc: 0.9360\n",
            "Epoch 57/100\n",
            "100/100 [==============================] - 21s 213ms/step - loss: 0.0917 - acc: 0.9655 - val_loss: 0.0389 - val_acc: 0.9430\n",
            "Epoch 58/100\n",
            "100/100 [==============================] - 21s 210ms/step - loss: 0.1155 - acc: 0.9540 - val_loss: 0.0105 - val_acc: 0.9440\n",
            "Epoch 59/100\n",
            "100/100 [==============================] - 21s 212ms/step - loss: 0.1164 - acc: 0.9615 - val_loss: 0.2364 - val_acc: 0.9410\n",
            "Epoch 60/100\n",
            "100/100 [==============================] - 21s 213ms/step - loss: 0.1183 - acc: 0.9580 - val_loss: 0.2330 - val_acc: 0.9390\n",
            "Epoch 61/100\n",
            "100/100 [==============================] - 21s 211ms/step - loss: 0.1230 - acc: 0.9550 - val_loss: 0.0271 - val_acc: 0.9470\n",
            "Epoch 62/100\n",
            "100/100 [==============================] - 21s 212ms/step - loss: 0.1118 - acc: 0.9595 - val_loss: 0.0040 - val_acc: 0.9360\n",
            "Epoch 63/100\n",
            "100/100 [==============================] - 21s 213ms/step - loss: 0.1024 - acc: 0.9650 - val_loss: 0.8566 - val_acc: 0.9370\n",
            "Epoch 64/100\n",
            "100/100 [==============================] - 21s 212ms/step - loss: 0.1008 - acc: 0.9660 - val_loss: 0.1536 - val_acc: 0.9460\n",
            "Epoch 65/100\n",
            "100/100 [==============================] - 21s 211ms/step - loss: 0.0897 - acc: 0.9695 - val_loss: 0.0862 - val_acc: 0.9340\n",
            "Epoch 66/100\n",
            "100/100 [==============================] - 21s 214ms/step - loss: 0.1041 - acc: 0.9615 - val_loss: 0.1394 - val_acc: 0.9490\n",
            "Epoch 67/100\n",
            "100/100 [==============================] - 21s 212ms/step - loss: 0.0991 - acc: 0.9635 - val_loss: 0.5784 - val_acc: 0.9330\n",
            "Epoch 68/100\n",
            "100/100 [==============================] - 21s 212ms/step - loss: 0.0906 - acc: 0.9640 - val_loss: 0.0350 - val_acc: 0.9420\n",
            "Epoch 69/100\n",
            "100/100 [==============================] - 21s 212ms/step - loss: 0.0966 - acc: 0.9635 - val_loss: 0.2307 - val_acc: 0.9350\n",
            "Epoch 70/100\n",
            "100/100 [==============================] - 21s 212ms/step - loss: 0.0911 - acc: 0.9710 - val_loss: 0.0042 - val_acc: 0.9480\n",
            "Epoch 71/100\n",
            "100/100 [==============================] - 21s 211ms/step - loss: 0.0961 - acc: 0.9650 - val_loss: 0.0075 - val_acc: 0.9490\n",
            "Epoch 72/100\n",
            "100/100 [==============================] - 21s 212ms/step - loss: 0.1001 - acc: 0.9645 - val_loss: 0.0138 - val_acc: 0.9510\n",
            "Epoch 73/100\n",
            "100/100 [==============================] - 21s 212ms/step - loss: 0.1017 - acc: 0.9670 - val_loss: 0.1261 - val_acc: 0.9420\n",
            "Epoch 74/100\n",
            "100/100 [==============================] - 21s 211ms/step - loss: 0.1217 - acc: 0.9590 - val_loss: 0.0246 - val_acc: 0.9530\n",
            "Epoch 75/100\n",
            "100/100 [==============================] - 21s 211ms/step - loss: 0.0885 - acc: 0.9685 - val_loss: 0.0048 - val_acc: 0.9530\n",
            "Epoch 76/100\n",
            "100/100 [==============================] - 21s 212ms/step - loss: 0.0947 - acc: 0.9655 - val_loss: 0.6365 - val_acc: 0.9340\n",
            "Epoch 77/100\n",
            "100/100 [==============================] - 21s 211ms/step - loss: 0.0838 - acc: 0.9695 - val_loss: 0.0697 - val_acc: 0.9540\n",
            "Epoch 78/100\n",
            "100/100 [==============================] - 21s 212ms/step - loss: 0.0909 - acc: 0.9635 - val_loss: 1.3970 - val_acc: 0.9480\n",
            "Epoch 79/100\n",
            "100/100 [==============================] - 21s 211ms/step - loss: 0.0998 - acc: 0.9700 - val_loss: 0.0832 - val_acc: 0.9480\n",
            "Epoch 80/100\n",
            "100/100 [==============================] - 21s 212ms/step - loss: 0.0972 - acc: 0.9660 - val_loss: 0.0343 - val_acc: 0.9450\n",
            "Epoch 81/100\n",
            "100/100 [==============================] - 21s 212ms/step - loss: 0.0901 - acc: 0.9690 - val_loss: 0.0172 - val_acc: 0.9510\n",
            "Epoch 82/100\n",
            "100/100 [==============================] - 21s 210ms/step - loss: 0.1150 - acc: 0.9595 - val_loss: 0.0220 - val_acc: 0.9480\n",
            "Epoch 83/100\n",
            "100/100 [==============================] - 21s 212ms/step - loss: 0.0923 - acc: 0.9645 - val_loss: 1.8256 - val_acc: 0.9480\n",
            "Epoch 84/100\n",
            "100/100 [==============================] - 21s 211ms/step - loss: 0.1125 - acc: 0.9635 - val_loss: 0.0056 - val_acc: 0.9400\n",
            "Epoch 85/100\n",
            "100/100 [==============================] - 21s 211ms/step - loss: 0.0818 - acc: 0.9705 - val_loss: 0.3699 - val_acc: 0.9460\n",
            "Epoch 86/100\n",
            "100/100 [==============================] - 21s 211ms/step - loss: 0.0826 - acc: 0.9730 - val_loss: 0.0020 - val_acc: 0.9430\n",
            "Epoch 87/100\n",
            "100/100 [==============================] - 21s 213ms/step - loss: 0.0743 - acc: 0.9750 - val_loss: 0.7221 - val_acc: 0.9370\n",
            "Epoch 88/100\n",
            "100/100 [==============================] - 21s 212ms/step - loss: 0.0695 - acc: 0.9715 - val_loss: 0.3735 - val_acc: 0.9550\n",
            "Epoch 89/100\n",
            "100/100 [==============================] - 21s 211ms/step - loss: 0.0820 - acc: 0.9690 - val_loss: 0.0020 - val_acc: 0.9470\n",
            "Epoch 90/100\n",
            "100/100 [==============================] - 21s 211ms/step - loss: 0.0716 - acc: 0.9765 - val_loss: 0.0291 - val_acc: 0.9490\n",
            "Epoch 91/100\n",
            "100/100 [==============================] - 21s 212ms/step - loss: 0.0951 - acc: 0.9675 - val_loss: 0.1243 - val_acc: 0.9470\n",
            "Epoch 92/100\n",
            "100/100 [==============================] - 21s 212ms/step - loss: 0.0708 - acc: 0.9730 - val_loss: 0.7399 - val_acc: 0.9530\n",
            "Epoch 93/100\n",
            "100/100 [==============================] - 21s 212ms/step - loss: 0.1055 - acc: 0.9650 - val_loss: 0.2441 - val_acc: 0.9470\n",
            "Epoch 94/100\n",
            "100/100 [==============================] - 21s 212ms/step - loss: 0.0848 - acc: 0.9730 - val_loss: 0.4985 - val_acc: 0.9440\n",
            "Epoch 95/100\n",
            "100/100 [==============================] - 21s 214ms/step - loss: 0.0901 - acc: 0.9710 - val_loss: 0.9360 - val_acc: 0.9490\n",
            "Epoch 96/100\n",
            "100/100 [==============================] - 21s 211ms/step - loss: 0.0835 - acc: 0.9680 - val_loss: 0.1854 - val_acc: 0.9550\n",
            "Epoch 97/100\n",
            "100/100 [==============================] - 21s 211ms/step - loss: 0.0785 - acc: 0.9680 - val_loss: 0.3346 - val_acc: 0.9410\n",
            "Epoch 98/100\n",
            "100/100 [==============================] - 21s 213ms/step - loss: 0.0955 - acc: 0.9685 - val_loss: 0.0038 - val_acc: 0.9470\n",
            "Epoch 99/100\n",
            "100/100 [==============================] - 21s 211ms/step - loss: 0.0622 - acc: 0.9770 - val_loss: 0.1586 - val_acc: 0.9300\n",
            "Epoch 100/100\n",
            "100/100 [==============================] - 21s 211ms/step - loss: 0.0860 - acc: 0.9680 - val_loss: 0.3272 - val_acc: 0.9390\n"
          ],
          "name": "stdout"
        }
      ]
    },
    {
      "cell_type": "markdown",
      "metadata": {
        "id": "eVBQgh5M-Rtz",
        "colab_type": "text"
      },
      "source": [
        "## Display learning curves during fine-tuning"
      ]
    },
    {
      "cell_type": "code",
      "metadata": {
        "id": "mbkIw7Ie-NP4",
        "colab_type": "code",
        "outputId": "4906bf30-c135-474a-b202-fdb7ed9dd556",
        "colab": {
          "base_uri": "https://localhost:8080/",
          "height": 545
        }
      },
      "source": [
        "%matplotlib inline\n",
        "\n",
        "import matplotlib.pyplot as plt\n",
        "\n",
        "acc = history.history['acc']\n",
        "val_acc = history.history['val_acc']\n",
        "\n",
        "loss = history.history['loss']\n",
        "val_loss = history.history['val_loss']\n",
        "\n",
        "epochs = range(1, len(acc) + 1)\n",
        "\n",
        "# training and validation accuracy\n",
        "\n",
        "plt.plot(epochs, acc, 'bo', label='training acc')\n",
        "plt.plot(epochs, val_acc, 'b', label='validation acc')\n",
        "plt.title('training and validation accuracy')\n",
        "plt.legend()\n",
        "\n",
        "plt.figure()\n",
        "\n",
        "# training and validation loss\n",
        "\n",
        "plt.plot(epochs, loss, 'bo', label='training loss')\n",
        "plt.plot(epochs, val_loss, 'b', label='validation loss')\n",
        "plt.title('training and validation loss')\n",
        "plt.legend()\n",
        "\n",
        "plt.show()"
      ],
      "execution_count": 12,
      "outputs": [
        {
          "output_type": "display_data",
          "data": {
            "image/png": "[encoded data removed]",
            "text/plain": [
              "<Figure size 432x288 with 1 Axes>"
            ]
          },
          "metadata": {
            "tags": [],
            "needs_background": "light"
          }
        },
        {
          "output_type": "display_data",
          "data": {
            "image/png": "[encoded data removed]",
            "text/plain": [
              "<Figure size 432x288 with 1 Axes>"
            ]
          },
          "metadata": {
            "tags": [],
            "needs_background": "light"
          }
        }
      ]
    },
    {
      "cell_type": "markdown",
      "metadata": {
        "id": "obQi6N4ZShdi",
        "colab_type": "text"
      },
      "source": [
        "This looks like overfitting. I should try  adding dropout for the densely connected layer.  \n",
        "*This time the accuracy was clearly improved. The steps I've taken seem to have allowed for this. However, overfitting was much more present in this case. If I were to train this model again I would increase the dropout rate and find a middle ground for the size of the layers. I would leave the frozen and unfrozen layers unchanged -Christopher Kerns*"
      ]
    },
    {
      "cell_type": "markdown",
      "metadata": {
        "id": "he3Nw6TOJwjx",
        "colab_type": "text"
      },
      "source": [
        "## Print out validation loss and accuracy"
      ]
    },
    {
      "cell_type": "code",
      "metadata": {
        "id": "SVQtrk7uJdhl",
        "colab_type": "code",
        "colab": {}
      },
      "source": [
        "val_loss, val_acc = model.evaluate_generator(validation_generator, steps=50)"
      ],
      "execution_count": 0,
      "outputs": []
    },
    {
      "cell_type": "code",
      "metadata": {
        "id": "HpdddLi1SUMe",
        "colab_type": "code",
        "outputId": "fc24b676-6ece-4628-efb7-31e8ed978a16",
        "colab": {
          "base_uri": "https://localhost:8080/",
          "height": 54
        }
      },
      "source": [
        "print(\"Validation loss:\", val_loss)\n",
        "print(\"Validation accuracy:\", val_acc)"
      ],
      "execution_count": 14,
      "outputs": [
        {
          "output_type": "stream",
          "text": [
            "Validation loss: 0.04079650714993477\n",
            "Validation accuracy: 0.9390000104904175\n"
          ],
          "name": "stdout"
        }
      ]
    },
    {
      "cell_type": "markdown",
      "metadata": {
        "id": "7Ww756WToby8",
        "colab_type": "text"
      },
      "source": [
        "## Save the model"
      ]
    },
    {
      "cell_type": "code",
      "metadata": {
        "id": "0lTUpUdwobKW",
        "colab_type": "code",
        "colab": {}
      },
      "source": [
        "model_fname = 'cats_and_dogs_small_4.h5' \n",
        "model.save(model_fname)"
      ],
      "execution_count": 0,
      "outputs": []
    },
    {
      "cell_type": "code",
      "metadata": {
        "id": "YhEoI8ZTok-X",
        "colab_type": "code",
        "colab": {}
      },
      "source": [
        "from google.colab import files\n",
        "\n",
        "with open(model_fname, 'r') as f:\n",
        "  files.download(model_fname)"
      ],
      "execution_count": 0,
      "outputs": []
    },
    {
      "cell_type": "code",
      "metadata": {
        "id": "VNEL4CCcS0Oj",
        "colab_type": "code",
        "colab": {}
      },
      "source": [
        ""
      ],
      "execution_count": 0,
      "outputs": []
    }
  ]
}
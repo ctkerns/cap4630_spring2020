{
  "nbformat": 4,
  "nbformat_minor": 0,
  "metadata": {
    "colab": {
      "name": "hw4_2.ipynb",
      "provenance": [],
      "collapsed_sections": [],
      "authorship_tag": "ABX9TyMqI34rLjZvJ2tlYXvHHx3N",
      "include_colab_link": true
    },
    "kernelspec": {
      "name": "python3",
      "display_name": "Python 3"
    }
  },
  "cells": [
    {
      "cell_type": "markdown",
      "metadata": {
        "id": "view-in-github",
        "colab_type": "text"
      },
      "source": [
        "<a href=\"https://colab.research.google.com/github/ctkerns/cap4630_spring2020/blob/master/hw4_2.ipynb\" target=\"_parent\"><img src=\"https://colab.research.google.com/assets/colab-badge.svg\" alt=\"Open In Colab\"/></a>"
      ]
    },
    {
      "cell_type": "code",
      "metadata": {
        "id": "rUnlCM_ER1JQ",
        "colab_type": "code",
        "colab": {}
      },
      "source": [
        "import numpy as np"
      ],
      "execution_count": 0,
      "outputs": []
    },
    {
      "cell_type": "markdown",
      "metadata": {
        "id": "RSYb_ydIR6yK",
        "colab_type": "text"
      },
      "source": [
        "## Homework 4 - Problem 2\n",
        "Here is a function I created to find a maximum value in a submatrix.  \n",
        "The starting max value is -infinity so that matrices with negative values could be supported."
      ]
    },
    {
      "cell_type": "code",
      "metadata": {
        "id": "gq9KDxT6bD90",
        "colab_type": "code",
        "colab": {}
      },
      "source": [
        "def max_in_mat(mat):\n",
        "    # Find shape of input mat where m is number of rows and n is number of columns.\n",
        "    m = len(mat)\n",
        "    n = len(mat[0])\n",
        "\n",
        "    # Find the maximum scalar value in the matrix\n",
        "    max = float('-inf')\n",
        "    \n",
        "    for i in range(m):\n",
        "        for j in range(n):\n",
        "            if mat[i][j] > max:\n",
        "                max = mat[i][j]\n",
        "    \n",
        "    return max"
      ],
      "execution_count": 0,
      "outputs": []
    },
    {
      "cell_type": "markdown",
      "metadata": {
        "id": "oJyTMVIkL-e3",
        "colab_type": "text"
      },
      "source": [
        "This is the function from problem 1 which identifies matrices that aren't square then throws an exception."
      ]
    },
    {
      "cell_type": "code",
      "metadata": {
        "id": "71HY0bkgMHXb",
        "colab_type": "code",
        "colab": {}
      },
      "source": [
        "class InvalidInput(Exception):\n",
        "    pass\n",
        "\n",
        "def is_square(mat):\n",
        "    if len(mat.shape) <= 1:\n",
        "        if len(mat) != 1:\n",
        "            raise InvalidInput(\"One of provided matrices is not a square matrix.\")\n",
        "    elif mat.shape[0] != mat.shape[1]:\n",
        "        raise InvalidInput(\"One of provided matrices is not a square matrix.\")"
      ],
      "execution_count": 0,
      "outputs": []
    },
    {
      "cell_type": "markdown",
      "metadata": {
        "id": "pb3ChjNAueu4",
        "colab_type": "text"
      },
      "source": [
        "Here is a function I made to pad the input matrix with zeros.  \n",
        "I considered simply shortening the pooling window when it overlapped the edge of the input matrix, but that approach would not support input matrices with negative values.  \n",
        "\n",
        "To find how many more rows or columns of zeros need to be added be for the width and height of the matrix are divisible by s, the pooling size, I created a formula.  \n",
        "* * *\n",
        "\n",
        "If $l$ is the size of the matrix in a certain direction, then\n",
        "$l\\space mod\\space s$ is the amount by which the input matrix fills the pooling window in that direction.\n",
        "\n",
        "$s - l\\space mod\\space s$ gives the difference between what needs to be filled and what is already filled in that direction. In other words, the number of rows or columns that need to be added.  \n",
        "\n",
        "There is a caveat to this. If $l$ is divisible by $s$ then the formula simply returns $s$ when it should return 0. To resolve this, I get the remainder of the whole equation so far divided by $s$.  \n",
        "\n",
        "$(s - l\\space mod\\space s)\\space mod\\space s$  \n",
        "\n",
        "Voila. The number of columns or rows to be added will never exceed the pooling size, so the formula is unchanged except in that edge case I mentioned.\n",
        "\n"
      ]
    },
    {
      "cell_type": "code",
      "metadata": {
        "id": "_chExkGWeeFg",
        "colab_type": "code",
        "colab": {}
      },
      "source": [
        "def pad_zeros(mat, s):\n",
        "    # Find shape of input mat where m is number of rows and n is number of columns.\n",
        "    m = len(mat)\n",
        "    n = len(mat[0])\n",
        "\n",
        "    # Add rows of zeros until the number of rows is divisible by the window height.\n",
        "    for i in range((s - m%s)%s):\n",
        "        mat = np.append(mat, np.full((1, n), 0), axis = 0)\n",
        "\n",
        "    # Add columns of zeros until the number of columns is divisible by the window width.\n",
        "    for i in range((s - n%s)%s):\n",
        "        mat = np.insert(mat, n + i, 0, axis = 1)\n",
        "    \n",
        "    return mat"
      ],
      "execution_count": 0,
      "outputs": []
    },
    {
      "cell_type": "markdown",
      "metadata": {
        "id": "pgQgTUEJwOl5",
        "colab_type": "text"
      },
      "source": [
        "And finally, I implemented the function maxpooling2d here."
      ]
    },
    {
      "cell_type": "code",
      "metadata": {
        "id": "MQbUbfmTSw7q",
        "colab_type": "code",
        "colab": {}
      },
      "source": [
        "def maxpooling2d(input_mat, s):\n",
        "    # Assert that the input matrix is square.\n",
        "    is_square(input_mat)\n",
        "\n",
        "    # Pad the input matrix with zeros.\n",
        "    input_mat = pad_zeros(input_mat, s)\n",
        "\n",
        "    # Find shape of input mat where m is number of rows and n is number of columns.\n",
        "    m = len(input_mat)\n",
        "    n = len(input_mat[0])\n",
        "\n",
        "    output_mat = []\n",
        "\n",
        "    for i in range(0, m, s):\n",
        "        output_mat.append([])\n",
        "        for j in range(0, n, s):\n",
        "            max = max_in_mat(input_mat[i:i+s, j:j+s])\n",
        "\n",
        "            output_mat[int(i/s)].append(max)\n",
        "\n",
        "    return output_mat"
      ],
      "execution_count": 0,
      "outputs": []
    }
  ]
}
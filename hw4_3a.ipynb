{
  "nbformat": 4,
  "nbformat_minor": 0,
  "metadata": {
    "colab": {
      "name": "hw4_3a.ipynb",
      "provenance": [],
      "collapsed_sections": [],
      "include_colab_link": true
    },
    "kernelspec": {
      "name": "python3",
      "display_name": "Python 3"
    },
    "accelerator": "GPU"
  },
  "cells": [
    {
      "cell_type": "markdown",
      "metadata": {
        "id": "view-in-github",
        "colab_type": "text"
      },
      "source": [
        "<a href=\"https://colab.research.google.com/github/ctkerns/cap4630_spring2020/blob/master/hw4_3a.ipynb\" target=\"_parent\"><img src=\"https://colab.research.google.com/assets/colab-badge.svg\" alt=\"Open In Colab\"/></a>"
      ]
    },
    {
      "cell_type": "markdown",
      "metadata": {
        "id": "KSrgMJ5vKFzQ",
        "colab_type": "text"
      },
      "source": [
        "# Fine-tuning VGG16 "
      ]
    },
    {
      "cell_type": "markdown",
      "metadata": {
        "id": "TIW7bZaAK-Hf",
        "colab_type": "text"
      },
      "source": [
        "This is based on section 5.3 *Using a pretrained convnet* of the book *Deep learning with Python* by Francois Chollet. I have made several changes to the code. I use the data that is already provided by Google. I don't download the data from Kaggle as in the deep learning book."
      ]
    },
    {
      "cell_type": "markdown",
      "metadata": {
        "id": "nsBq__dVo2pj",
        "colab_type": "text"
      },
      "source": [
        "## Feature extraction"
      ]
    },
    {
      "cell_type": "markdown",
      "metadata": {
        "id": "0g6ETAM9o54M",
        "colab_type": "text"
      },
      "source": [
        "Feature extraction consists of using the representations learned by a previous network to extract interesting features from new samples. These features are then run through a new classifier, which is trained from scratch.\n",
        "\n",
        "We will use here the convolutional base of the VGG16 model to extract the features. We will feed these features to a densely connected classifier with dropout. We will fine-tune some layers."
      ]
    },
    {
      "cell_type": "markdown",
      "metadata": {
        "id": "BqIG8QHMLNOn",
        "colab_type": "text"
      },
      "source": [
        "## Download the data"
      ]
    },
    {
      "cell_type": "markdown",
      "metadata": {
        "id": "t3I1jd7cKV6_",
        "colab_type": "text"
      },
      "source": [
        "Download the example data, a zip. of 2,000 JPG pictures of cats and dogs and extract it locally in ```/tmp```.\n",
        "\n"
      ]
    },
    {
      "cell_type": "code",
      "metadata": {
        "id": "JWjprHEXJ5Qi",
        "colab_type": "code",
        "outputId": "c66a4814-533d-46b2-da8e-ba485d15f83b",
        "colab": {
          "base_uri": "https://localhost:8080/",
          "height": 223
        }
      },
      "source": [
        "!wget --no-check-certificate \\\n",
        "    https://storage.googleapis.com/mledu-datasets/cats_and_dogs_filtered.zip \\\n",
        "    -O /tmp/cats_and_dogs_filtered.zip"
      ],
      "execution_count": 15,
      "outputs": [
        {
          "output_type": "stream",
          "text": [
            "--2020-04-20 12:14:37--  https://storage.googleapis.com/mledu-datasets/cats_and_dogs_filtered.zip\n",
            "Resolving storage.googleapis.com (storage.googleapis.com)... 108.177.126.128, 2a00:1450:4013:c04::80\n",
            "Connecting to storage.googleapis.com (storage.googleapis.com)|108.177.126.128|:443... connected.\n",
            "HTTP request sent, awaiting response... 200 OK\n",
            "Length: 68606236 (65M) [application/zip]\n",
            "Saving to: ‘/tmp/cats_and_dogs_filtered.zip’\n",
            "\n",
            "\r          /tmp/cats   0%[                    ]       0  --.-KB/s               \r/tmp/cats_and_dogs_ 100%[===================>]  65.43M   342MB/s    in 0.2s    \n",
            "\n",
            "2020-04-20 12:14:37 (342 MB/s) - ‘/tmp/cats_and_dogs_filtered.zip’ saved [68606236/68606236]\n",
            "\n"
          ],
          "name": "stdout"
        }
      ]
    },
    {
      "cell_type": "code",
      "metadata": {
        "id": "WvoHtdA-K6Rw",
        "colab_type": "code",
        "colab": {}
      },
      "source": [
        "import os\n",
        "import zipfile\n",
        "\n",
        "local_zip = '/tmp/cats_and_dogs_filtered.zip'\n",
        "zip_ref = zipfile.ZipFile(local_zip, 'r')\n",
        "zip_ref.extractall('/tmp')\n",
        "zip_ref.close()"
      ],
      "execution_count": 0,
      "outputs": []
    },
    {
      "cell_type": "markdown",
      "metadata": {
        "id": "shZiOBnJMyy_",
        "colab_type": "text"
      },
      "source": [
        "Note that the data provided by Google does not have a test set."
      ]
    },
    {
      "cell_type": "code",
      "metadata": {
        "id": "dL8ikM89LlsH",
        "colab_type": "code",
        "colab": {}
      },
      "source": [
        "base_dir = '/tmp/cats_and_dogs_filtered'\n",
        "train_dir = os.path.join(base_dir, 'train')\n",
        "validation_dir = os.path.join(base_dir, 'validation')\n",
        "\n",
        "# Directory with our training cat pictures\n",
        "train_cats_dir = os.path.join(train_dir, 'cats')\n",
        "\n",
        "# Directory with our training dog pictures\n",
        "train_dogs_dir = os.path.join(train_dir, 'dogs')\n",
        "\n",
        "# Directory with our validation cat pictures\n",
        "validation_cats_dir = os.path.join(validation_dir, 'cats')\n",
        "\n",
        "# Directory with our validation dog pictures\n",
        "validation_dogs_dir = os.path.join(validation_dir, 'dogs')"
      ],
      "execution_count": 0,
      "outputs": []
    },
    {
      "cell_type": "markdown",
      "metadata": {
        "id": "inyP8bcdXnn-",
        "colab_type": "text"
      },
      "source": [
        "## Build network with VGG16 convolution base and custom densely connected layers"
      ]
    },
    {
      "cell_type": "markdown",
      "metadata": {
        "id": "kQ48W5T9rHWu",
        "colab_type": "text"
      },
      "source": [
        "### Load the convolutional base\n",
        "*Switched VGG16 with Xception - Christopher Kerns*"
      ]
    },
    {
      "cell_type": "code",
      "metadata": {
        "id": "Y0FgtANCXm_H",
        "colab_type": "code",
        "colab": {}
      },
      "source": [
        "from keras.applications import Xception\n",
        "\n",
        "conv_base = Xception(\n",
        "    weights='imagenet', \n",
        "    include_top=False, \n",
        "    input_shape=(150, 150, 3))"
      ],
      "execution_count": 0,
      "outputs": []
    },
    {
      "cell_type": "markdown",
      "metadata": {
        "id": "D6OBHOO9q1ou",
        "colab_type": "text"
      },
      "source": [
        "### Freeze the convolutional base"
      ]
    },
    {
      "cell_type": "code",
      "metadata": {
        "id": "UleRo4Dpq6Ld",
        "colab_type": "code",
        "colab": {}
      },
      "source": [
        "conv_base.trainable = False"
      ],
      "execution_count": 0,
      "outputs": []
    },
    {
      "cell_type": "markdown",
      "metadata": {
        "id": "Qfx6PqhPrb7Q",
        "colab_type": "text"
      },
      "source": [
        "### Concatenate the convolutional base and densely connected layers\n",
        "*This is the part I need to change.*  \n",
        "*I am going to decrease the size of the relu layer to 100 and see what happens. If training is not succesful and does not create an accurate model, that tells me I may need to increase this number again while being mindful of overfitting.*  \n",
        "*This is a simple classification problem so I don't think any layers need to be added*\n",
        "*Activation functions should not change and the final layer should not be changed.*\n",
        "*-Christopher Kerns*"
      ]
    },
    {
      "cell_type": "code",
      "metadata": {
        "id": "qUpmocDAO3xm",
        "colab_type": "code",
        "colab": {}
      },
      "source": [
        "from keras import layers\n",
        "from keras import models\n",
        "from keras import optimizers\n",
        "\n",
        "model = models.Sequential()\n",
        "model.add(conv_base)\n",
        "model.add(layers.Flatten())\n",
        "model.add(layers.Dense(100, activation='relu'))\n",
        "#model.add(layers.Dropout(0.1))\n",
        "model.add(layers.Dense(1, activation='sigmoid'))"
      ],
      "execution_count": 0,
      "outputs": []
    },
    {
      "cell_type": "code",
      "metadata": {
        "id": "Fh6gZSeAjF7c",
        "colab_type": "code",
        "outputId": "74107864-f6ac-43a9-e7fe-3a4a0fa6ffb5",
        "colab": {
          "base_uri": "https://localhost:8080/",
          "height": 316
        }
      },
      "source": [
        "model.summary()"
      ],
      "execution_count": 21,
      "outputs": [
        {
          "output_type": "stream",
          "text": [
            "Model: \"sequential_2\"\n",
            "_________________________________________________________________\n",
            "Layer (type)                 Output Shape              Param #   \n",
            "=================================================================\n",
            "xception (Model)             (None, 5, 5, 2048)        20861480  \n",
            "_________________________________________________________________\n",
            "flatten_2 (Flatten)          (None, 51200)             0         \n",
            "_________________________________________________________________\n",
            "dense_3 (Dense)              (None, 100)               5120100   \n",
            "_________________________________________________________________\n",
            "dense_4 (Dense)              (None, 1)                 101       \n",
            "=================================================================\n",
            "Total params: 25,981,681\n",
            "Trainable params: 5,120,201\n",
            "Non-trainable params: 20,861,480\n",
            "_________________________________________________________________\n"
          ],
          "name": "stdout"
        }
      ]
    },
    {
      "cell_type": "markdown",
      "metadata": {
        "id": "eZjBiddhi5Qj",
        "colab_type": "text"
      },
      "source": [
        "## Train the model end to end with frozen convolutional base"
      ]
    },
    {
      "cell_type": "code",
      "metadata": {
        "id": "tfAQlC2Oi41L",
        "colab_type": "code",
        "outputId": "bc6a8d10-bdc8-479c-890c-d87a9e092824",
        "colab": {
          "base_uri": "https://localhost:8080/",
          "height": 1000
        }
      },
      "source": [
        "from keras.preprocessing.image import ImageDataGenerator\n",
        "from keras import optimizers\n",
        "\n",
        "# data augmentation\n",
        "\n",
        "train_datagen = ImageDataGenerator(\n",
        "    rescale=1./255, \n",
        "    rotation_range=40,\n",
        "    width_shift_range=0.2,\n",
        "    height_shift_range=0.2,\n",
        "    shear_range=0.2,\n",
        "    zoom_range=0.2,\n",
        "    horizontal_flip=True,\n",
        "    fill_mode='nearest'\n",
        ")\n",
        "\n",
        "train_generator = train_datagen.flow_from_directory(\n",
        "    train_dir,\n",
        "    target_size=(150, 150),\n",
        "    batch_size=20,\n",
        "    class_mode='binary')\n",
        "\n",
        "validation_datagen = ImageDataGenerator(rescale=1./255)\n",
        "\n",
        "validation_generator = validation_datagen.flow_from_directory(\n",
        "    validation_dir,\n",
        "    target_size=(150, 150),\n",
        "    batch_size=20,\n",
        "    class_mode='binary')\n",
        "\n",
        "# compile model\n",
        "\n",
        "model.compile(\n",
        "    loss='binary_crossentropy', \n",
        "    optimizer=optimizers.RMSprop(lr=2e-5), \n",
        "    metrics=['acc'])\n",
        "\n",
        "# train\n",
        "\n",
        "history = model.fit_generator(\n",
        "    train_generator,\n",
        "    steps_per_epoch=100,\n",
        "    epochs=30,\n",
        "    validation_data=validation_generator,\n",
        "    validation_steps=50\n",
        ")"
      ],
      "execution_count": 22,
      "outputs": [
        {
          "output_type": "stream",
          "text": [
            "Found 2000 images belonging to 2 classes.\n",
            "Found 1000 images belonging to 2 classes.\n",
            "Epoch 1/30\n",
            "100/100 [==============================] - 20s 201ms/step - loss: 0.4782 - acc: 0.7540 - val_loss: 0.0467 - val_acc: 0.9450\n",
            "Epoch 2/30\n",
            "100/100 [==============================] - 17s 170ms/step - loss: 0.3794 - acc: 0.8160 - val_loss: 0.2220 - val_acc: 0.9650\n",
            "Epoch 3/30\n",
            "100/100 [==============================] - 17s 170ms/step - loss: 0.3528 - acc: 0.8285 - val_loss: 0.1850 - val_acc: 0.9590\n",
            "Epoch 4/30\n",
            "100/100 [==============================] - 17s 170ms/step - loss: 0.3431 - acc: 0.8370 - val_loss: 0.0060 - val_acc: 0.9660\n",
            "Epoch 5/30\n",
            "100/100 [==============================] - 17s 169ms/step - loss: 0.3113 - acc: 0.8615 - val_loss: 0.0033 - val_acc: 0.9530\n",
            "Epoch 6/30\n",
            "100/100 [==============================] - 17s 169ms/step - loss: 0.3528 - acc: 0.8435 - val_loss: 0.0063 - val_acc: 0.9650\n",
            "Epoch 7/30\n",
            "100/100 [==============================] - 17s 169ms/step - loss: 0.3313 - acc: 0.8505 - val_loss: 0.0196 - val_acc: 0.9670\n",
            "Epoch 8/30\n",
            "100/100 [==============================] - 17s 170ms/step - loss: 0.3204 - acc: 0.8520 - val_loss: 1.7516e-04 - val_acc: 0.9700\n",
            "Epoch 9/30\n",
            "100/100 [==============================] - 17s 172ms/step - loss: 0.3132 - acc: 0.8580 - val_loss: 0.3176 - val_acc: 0.9670\n",
            "Epoch 10/30\n",
            "100/100 [==============================] - 17s 168ms/step - loss: 0.3229 - acc: 0.8545 - val_loss: 0.0021 - val_acc: 0.9700\n",
            "Epoch 11/30\n",
            "100/100 [==============================] - 17s 170ms/step - loss: 0.3219 - acc: 0.8610 - val_loss: 0.0546 - val_acc: 0.9650\n",
            "Epoch 12/30\n",
            "100/100 [==============================] - 17s 168ms/step - loss: 0.2943 - acc: 0.8720 - val_loss: 0.3413 - val_acc: 0.9690\n",
            "Epoch 13/30\n",
            "100/100 [==============================] - 17s 171ms/step - loss: 0.2933 - acc: 0.8715 - val_loss: 1.4675e-04 - val_acc: 0.9670\n",
            "Epoch 14/30\n",
            "100/100 [==============================] - 17s 168ms/step - loss: 0.2873 - acc: 0.8800 - val_loss: 0.3258 - val_acc: 0.9670\n",
            "Epoch 15/30\n",
            "100/100 [==============================] - 17s 169ms/step - loss: 0.2785 - acc: 0.8740 - val_loss: 0.0773 - val_acc: 0.9710\n",
            "Epoch 16/30\n",
            "100/100 [==============================] - 17s 170ms/step - loss: 0.2724 - acc: 0.8805 - val_loss: 0.0049 - val_acc: 0.9730\n",
            "Epoch 17/30\n",
            "100/100 [==============================] - 17s 169ms/step - loss: 0.2848 - acc: 0.8760 - val_loss: 0.0507 - val_acc: 0.9650\n",
            "Epoch 18/30\n",
            "100/100 [==============================] - 17s 169ms/step - loss: 0.2829 - acc: 0.8790 - val_loss: 0.1494 - val_acc: 0.9690\n",
            "Epoch 19/30\n",
            "100/100 [==============================] - 17s 168ms/step - loss: 0.2850 - acc: 0.8785 - val_loss: 0.4554 - val_acc: 0.9720\n",
            "Epoch 20/30\n",
            "100/100 [==============================] - 17s 168ms/step - loss: 0.2683 - acc: 0.8820 - val_loss: 0.3885 - val_acc: 0.9720\n",
            "Epoch 21/30\n",
            "100/100 [==============================] - 17s 168ms/step - loss: 0.2775 - acc: 0.8870 - val_loss: 0.0289 - val_acc: 0.9720\n",
            "Epoch 22/30\n",
            "100/100 [==============================] - 17s 168ms/step - loss: 0.2488 - acc: 0.8860 - val_loss: 0.2206 - val_acc: 0.9720\n",
            "Epoch 23/30\n",
            "100/100 [==============================] - 17s 169ms/step - loss: 0.2714 - acc: 0.8860 - val_loss: 4.3265e-07 - val_acc: 0.9680\n",
            "Epoch 24/30\n",
            "100/100 [==============================] - 17s 168ms/step - loss: 0.2636 - acc: 0.8925 - val_loss: 0.6452 - val_acc: 0.9730\n",
            "Epoch 25/30\n",
            "100/100 [==============================] - 17s 169ms/step - loss: 0.2695 - acc: 0.8910 - val_loss: 0.6538 - val_acc: 0.9680\n",
            "Epoch 26/30\n",
            "100/100 [==============================] - 17s 167ms/step - loss: 0.2761 - acc: 0.8825 - val_loss: 2.3378e-04 - val_acc: 0.9670\n",
            "Epoch 27/30\n",
            "100/100 [==============================] - 17s 169ms/step - loss: 0.2922 - acc: 0.8660 - val_loss: 0.0585 - val_acc: 0.9670\n",
            "Epoch 28/30\n",
            "100/100 [==============================] - 17s 169ms/step - loss: 0.2750 - acc: 0.8830 - val_loss: 0.2201 - val_acc: 0.9660\n",
            "Epoch 29/30\n",
            "100/100 [==============================] - 17s 170ms/step - loss: 0.2543 - acc: 0.8905 - val_loss: 5.7988e-07 - val_acc: 0.9640\n",
            "Epoch 30/30\n",
            "100/100 [==============================] - 17s 168ms/step - loss: 0.2566 - acc: 0.8940 - val_loss: 0.0014 - val_acc: 0.9710\n"
          ],
          "name": "stdout"
        }
      ]
    },
    {
      "cell_type": "markdown",
      "metadata": {
        "id": "xqRc_vHKc92U",
        "colab_type": "text"
      },
      "source": [
        "## Display curves of loss and accuracy during training"
      ]
    },
    {
      "cell_type": "code",
      "metadata": {
        "id": "ybWwdzz9bwuQ",
        "colab_type": "code",
        "outputId": "88ecd4e9-7f38-4162-d091-d2ea884b8f9f",
        "colab": {
          "base_uri": "https://localhost:8080/",
          "height": 545
        }
      },
      "source": [
        "%matplotlib inline\n",
        "\n",
        "import matplotlib.pyplot as plt\n",
        "\n",
        "acc = history.history['acc']\n",
        "val_acc = history.history['val_acc']\n",
        "\n",
        "loss = history.history['loss']\n",
        "val_loss = history.history['val_loss']\n",
        "\n",
        "epochs = range(1, len(acc) + 1)\n",
        "\n",
        "# training and validation accuracy\n",
        "\n",
        "plt.plot(epochs, acc, 'bo', label='training acc')\n",
        "plt.plot(epochs, val_acc, 'b', label='validation acc')\n",
        "plt.title('training and validation accuracy')\n",
        "plt.legend()\n",
        "\n",
        "plt.figure()\n",
        "\n",
        "# training and validation loss\n",
        "\n",
        "plt.plot(epochs, loss, 'bo', label='training loss')\n",
        "plt.plot(epochs, val_loss, 'b', label='validation loss')\n",
        "plt.title('training and validation loss')\n",
        "plt.legend()\n",
        "\n",
        "plt.show()"
      ],
      "execution_count": 23,
      "outputs": [
        {
          "output_type": "display_data",
          "data": {
            "image/png": "[encoded data removed]",
            "text/plain": [
              "<Figure size 432x288 with 1 Axes>"
            ]
          },
          "metadata": {
            "tags": [],
            "needs_background": "light"
          }
        },
        {
          "output_type": "display_data",
          "data": {
            "image/png": "[encoded data removed]",
            "text/plain": [
              "<Figure size 432x288 with 1 Axes>"
            ]
          },
          "metadata": {
            "tags": [],
            "needs_background": "light"
          }
        }
      ]
    },
    {
      "cell_type": "markdown",
      "metadata": {
        "id": "lOWsxpey8lN0",
        "colab_type": "text"
      },
      "source": [
        "## Fine-tuning\n",
        "*I will be unfreezing the last block in the Xception model to allow for some flexibility in the model*  \n",
        "*I also want to validate that I am doing this correctly so I will print out whether each of the layers are frozen - Christopher Kerns*"
      ]
    },
    {
      "cell_type": "code",
      "metadata": {
        "id": "PwkVMx8N8qMw",
        "colab_type": "code",
        "colab": {
          "base_uri": "https://localhost:8080/",
          "height": 1000
        },
        "outputId": "79593ead-4077-4bbb-a152-c607e1e1f5ed"
      },
      "source": [
        "conv_base.trainable = True\n",
        "\n",
        "set_trainable = False\n",
        "for layer in conv_base.layers:\n",
        "  if layer.name == 'block14_sepconv1':\n",
        "    set_trainable = True\n",
        "  if set_trainable:\n",
        "    layer.trainable = True\n",
        "  else:\n",
        "    layer.trainable = False\n",
        "\n",
        "for layer in conv_base.layers:\n",
        "    print(layer, layer.trainable)"
      ],
      "execution_count": 32,
      "outputs": [
        {
          "output_type": "stream",
          "text": [
            "<keras.engine.input_layer.InputLayer object at 0x7f24a8275588> False\n",
            "<keras.layers.convolutional.Conv2D object at 0x7f24a82757b8> False\n",
            "<keras.layers.normalization.BatchNormalization object at 0x7f24a8275be0> False\n",
            "<keras.layers.core.Activation object at 0x7f24a82759e8> False\n",
            "<keras.layers.convolutional.Conv2D object at 0x7f2499bbf320> False\n",
            "<keras.layers.normalization.BatchNormalization object at 0x7f2498d826a0> False\n",
            "<keras.layers.core.Activation object at 0x7f24a8a509b0> False\n",
            "<keras.layers.convolutional.SeparableConv2D object at 0x7f24a8ad4dd8> False\n",
            "<keras.layers.normalization.BatchNormalization object at 0x7f24a8b5acf8> False\n",
            "<keras.layers.core.Activation object at 0x7f24a8b635c0> False\n",
            "<keras.layers.convolutional.SeparableConv2D object at 0x7f24a8b7bdd8> False\n",
            "<keras.layers.normalization.BatchNormalization object at 0x7f24a8b10c50> False\n",
            "<keras.layers.convolutional.Conv2D object at 0x7f24a8a68f98> False\n",
            "<keras.layers.pooling.MaxPooling2D object at 0x7f24a8b37e80> False\n",
            "<keras.layers.normalization.BatchNormalization object at 0x7f24a8a6f0b8> False\n",
            "<keras.layers.merge.Add object at 0x7f24a8b37ef0> False\n",
            "<keras.layers.core.Activation object at 0x7f24a8aa7898> False\n",
            "<keras.layers.convolutional.SeparableConv2D object at 0x7f24a8abcc50> False\n",
            "<keras.layers.normalization.BatchNormalization object at 0x7f24a8b90c18> False\n",
            "<keras.layers.core.Activation object at 0x7f24a8bb1e48> False\n",
            "<keras.layers.convolutional.SeparableConv2D object at 0x7f24a8bb1eb8> False\n",
            "<keras.layers.normalization.BatchNormalization object at 0x7f2498b808d0> False\n",
            "<keras.layers.convolutional.Conv2D object at 0x7f24a8b40e80> False\n",
            "<keras.layers.pooling.MaxPooling2D object at 0x7f2498b9c940> False\n",
            "<keras.layers.normalization.BatchNormalization object at 0x7f24a8a98b00> False\n",
            "<keras.layers.merge.Add object at 0x7f2498b9c908> False\n",
            "<keras.layers.core.Activation object at 0x7f24a8c23fd0> False\n",
            "<keras.layers.convolutional.SeparableConv2D object at 0x7f24a8c266a0> False\n",
            "<keras.layers.normalization.BatchNormalization object at 0x7f24a8c3a898> False\n",
            "<keras.layers.core.Activation object at 0x7f24a8bd7908> False\n",
            "<keras.layers.convolutional.SeparableConv2D object at 0x7f24a8bd7898> False\n",
            "<keras.layers.normalization.BatchNormalization object at 0x7f24a8bdc898> False\n",
            "<keras.layers.convolutional.Conv2D object at 0x7f2498b9cba8> False\n",
            "<keras.layers.pooling.MaxPooling2D object at 0x7f24a8c05ef0> False\n",
            "<keras.layers.normalization.BatchNormalization object at 0x7f24a8c0ce80> False\n",
            "<keras.layers.merge.Add object at 0x7f2498b38390> False\n",
            "<keras.layers.core.Activation object at 0x7f2498b38ba8> False\n",
            "<keras.layers.convolutional.SeparableConv2D object at 0x7f2498b38b70> False\n",
            "<keras.layers.normalization.BatchNormalization object at 0x7f2498b53da0> False\n",
            "<keras.layers.core.Activation object at 0x7f2498b67fd0> False\n",
            "<keras.layers.convolutional.SeparableConv2D object at 0x7f2498b6db38> False\n",
            "<keras.layers.normalization.BatchNormalization object at 0x7f2498b00be0> False\n",
            "<keras.layers.core.Activation object at 0x7f2498b1cc50> False\n",
            "<keras.layers.convolutional.SeparableConv2D object at 0x7f2498b1cbe0> False\n",
            "<keras.layers.normalization.BatchNormalization object at 0x7f2498b1f908> False\n",
            "<keras.layers.merge.Add object at 0x7f2498acfef0> False\n",
            "<keras.layers.core.Activation object at 0x7f2498b38b38> False\n",
            "<keras.layers.convolutional.SeparableConv2D object at 0x7f2498acf668> False\n",
            "<keras.layers.normalization.BatchNormalization object at 0x7f2498ae40b8> False\n",
            "<keras.layers.core.Activation object at 0x7f2498a83c18> False\n",
            "<keras.layers.convolutional.SeparableConv2D object at 0x7f2498a83c50> False\n",
            "<keras.layers.normalization.BatchNormalization object at 0x7f2498a93cf8> False\n",
            "<keras.layers.core.Activation object at 0x7f2498ab1cf8> False\n",
            "<keras.layers.convolutional.SeparableConv2D object at 0x7f2498ab1d68> False\n",
            "<keras.layers.normalization.BatchNormalization object at 0x7f2498a49780> False\n",
            "<keras.layers.merge.Add object at 0x7f2498a65a58> False\n",
            "<keras.layers.core.Activation object at 0x7f2498acf630> False\n",
            "<keras.layers.convolutional.SeparableConv2D object at 0x7f2498a657f0> False\n",
            "<keras.layers.normalization.BatchNormalization object at 0x7f24989fe1d0> False\n",
            "<keras.layers.core.Activation object at 0x7f2498a1bd30> False\n",
            "<keras.layers.convolutional.SeparableConv2D object at 0x7f2498a1bd68> False\n",
            "<keras.layers.normalization.BatchNormalization object at 0x7f2498a2bbe0> False\n",
            "<keras.layers.core.Activation object at 0x7f24989c8e10> False\n",
            "<keras.layers.convolutional.SeparableConv2D object at 0x7f24989c8e80> False\n",
            "<keras.layers.normalization.BatchNormalization object at 0x7f24989df898> False\n",
            "<keras.layers.merge.Add object at 0x7f249897c908> False\n",
            "<keras.layers.core.Activation object at 0x7f2498a65748> False\n",
            "<keras.layers.convolutional.SeparableConv2D object at 0x7f249897c8d0> False\n",
            "<keras.layers.normalization.BatchNormalization object at 0x7f2498993198> False\n",
            "<keras.layers.core.Activation object at 0x7f24989b0e48> False\n",
            "<keras.layers.convolutional.SeparableConv2D object at 0x7f24989b0e80> False\n",
            "<keras.layers.normalization.BatchNormalization object at 0x7f2498940cf8> False\n",
            "<keras.layers.core.Activation object at 0x7f249895cf28> False\n",
            "<keras.layers.convolutional.SeparableConv2D object at 0x7f249895cf98> False\n",
            "<keras.layers.normalization.BatchNormalization object at 0x7f24988f69b0> False\n",
            "<keras.layers.merge.Add object at 0x7f2498911a20> False\n",
            "<keras.layers.core.Activation object at 0x7f249897c860> False\n",
            "<keras.layers.convolutional.SeparableConv2D object at 0x7f24989119e8> False\n",
            "<keras.layers.normalization.BatchNormalization object at 0x7f24989282b0> False\n",
            "<keras.layers.core.Activation object at 0x7f24988c8f60> False\n",
            "<keras.layers.convolutional.SeparableConv2D object at 0x7f24988c8e48> False\n",
            "<keras.layers.normalization.BatchNormalization object at 0x7f24988d9fd0> False\n",
            "<keras.layers.core.Activation object at 0x7f2498875c88> False\n",
            "<keras.layers.convolutional.SeparableConv2D object at 0x7f249887ba20> False\n",
            "<keras.layers.normalization.BatchNormalization object at 0x7f249888bac8> False\n",
            "<keras.layers.merge.Add object at 0x7f24988a6b38> False\n",
            "<keras.layers.core.Activation object at 0x7f2498911978> False\n",
            "<keras.layers.convolutional.SeparableConv2D object at 0x7f24988a6b00> False\n",
            "<keras.layers.normalization.BatchNormalization object at 0x7f249883f3c8> False\n",
            "<keras.layers.core.Activation object at 0x7f249885dfd0> False\n",
            "<keras.layers.convolutional.SeparableConv2D object at 0x7f249885da20> False\n",
            "<keras.layers.normalization.BatchNormalization object at 0x7f2498862160> False\n",
            "<keras.layers.core.Activation object at 0x7f249880dda0> False\n",
            "<keras.layers.convolutional.SeparableConv2D object at 0x7f2498811b38> False\n",
            "<keras.layers.normalization.BatchNormalization object at 0x7f2498820be0> False\n",
            "<keras.layers.merge.Add object at 0x7f24987c1c50> False\n",
            "<keras.layers.core.Activation object at 0x7f24988a6a90> False\n",
            "<keras.layers.convolutional.SeparableConv2D object at 0x7f24987c1c18> False\n",
            "<keras.layers.normalization.BatchNormalization object at 0x7f24987d74e0> False\n",
            "<keras.layers.core.Activation object at 0x7f2498775b00> False\n",
            "<keras.layers.convolutional.SeparableConv2D object at 0x7f2498775828> False\n",
            "<keras.layers.normalization.BatchNormalization object at 0x7f2498778828> False\n",
            "<keras.layers.core.Activation object at 0x7f24987a1f60> False\n",
            "<keras.layers.convolutional.SeparableConv2D object at 0x7f24987a5c50> False\n",
            "<keras.layers.normalization.BatchNormalization object at 0x7f2498738cf8> False\n",
            "<keras.layers.merge.Add object at 0x7f2498756cf8> False\n",
            "<keras.layers.core.Activation object at 0x7f24987c1ba8> False\n",
            "<keras.layers.convolutional.SeparableConv2D object at 0x7f2498756cc0> False\n",
            "<keras.layers.normalization.BatchNormalization object at 0x7f249876c5f8> False\n",
            "<keras.layers.core.Activation object at 0x7f249870a9b0> False\n",
            "<keras.layers.convolutional.SeparableConv2D object at 0x7f249870a940> False\n",
            "<keras.layers.normalization.BatchNormalization object at 0x7f249870f940> False\n",
            "<keras.layers.core.Activation object at 0x7f24986b9f98> False\n",
            "<keras.layers.convolutional.SeparableConv2D object at 0x7f24986bdd68> False\n",
            "<keras.layers.normalization.BatchNormalization object at 0x7f24986d3be0> False\n",
            "<keras.layers.merge.Add object at 0x7f24986ebe10> False\n",
            "<keras.layers.core.Activation object at 0x7f249868bbe0> False\n",
            "<keras.layers.convolutional.SeparableConv2D object at 0x7f24986a19e8> False\n",
            "<keras.layers.normalization.BatchNormalization object at 0x7f24986b2be0> False\n",
            "<keras.layers.core.Activation object at 0x7f2498650c50> False\n",
            "<keras.layers.convolutional.SeparableConv2D object at 0x7f2498650be0> False\n",
            "<keras.layers.normalization.BatchNormalization object at 0x7f2498655908> False\n",
            "<keras.layers.convolutional.Conv2D object at 0x7f24986ebdd8> False\n",
            "<keras.layers.pooling.MaxPooling2D object at 0x7f2498601ef0> False\n",
            "<keras.layers.normalization.BatchNormalization object at 0x7f2498683828> False\n",
            "<keras.layers.merge.Add object at 0x7f2498601668> False\n",
            "<keras.layers.convolutional.SeparableConv2D object at 0x7f2498601f60> True\n",
            "<keras.layers.normalization.BatchNormalization object at 0x7f249861a2e8> True\n",
            "<keras.layers.core.Activation object at 0x7f2498633d30> True\n",
            "<keras.layers.convolutional.SeparableConv2D object at 0x7f24985b9cc0> True\n",
            "<keras.layers.normalization.BatchNormalization object at 0x7f24985c9fd0> True\n",
            "<keras.layers.core.Activation object at 0x7f24985e6d68> True\n"
          ],
          "name": "stdout"
        }
      ]
    },
    {
      "cell_type": "code",
      "metadata": {
        "id": "DyN-J7rs9cvo",
        "colab_type": "code",
        "outputId": "50a4300a-000d-48a8-a9b2-1afa02d30168",
        "colab": {
          "base_uri": "https://localhost:8080/",
          "height": 1000
        }
      },
      "source": [
        "# compile model\n",
        "\n",
        "model.compile(\n",
        "    loss='binary_crossentropy',\n",
        "    #\n",
        "    # choose a smaller learning rate\n",
        "    #\n",
        "    optimizer=optimizers.RMSprop(lr=1e-5), \n",
        "    metrics=['acc'])\n",
        "\n",
        "# train\n",
        "\n",
        "history = model.fit_generator(\n",
        "    train_generator,\n",
        "    steps_per_epoch=100,\n",
        "    epochs=100,\n",
        "    validation_data=validation_generator,\n",
        "    validation_steps=50)"
      ],
      "execution_count": 33,
      "outputs": [
        {
          "output_type": "stream",
          "text": [
            "Epoch 1/100\n",
            "100/100 [==============================] - 21s 212ms/step - loss: 0.0933 - acc: 0.9615 - val_loss: 0.2454 - val_acc: 0.9300\n",
            "Epoch 2/100\n",
            "100/100 [==============================] - 18s 181ms/step - loss: 0.0761 - acc: 0.9710 - val_loss: 0.0842 - val_acc: 0.9430\n",
            "Epoch 3/100\n",
            "100/100 [==============================] - 18s 179ms/step - loss: 0.0703 - acc: 0.9750 - val_loss: 0.0499 - val_acc: 0.9310\n",
            "Epoch 4/100\n",
            "100/100 [==============================] - 18s 177ms/step - loss: 0.0936 - acc: 0.9655 - val_loss: 0.0780 - val_acc: 0.9400\n",
            "Epoch 5/100\n",
            "100/100 [==============================] - 18s 178ms/step - loss: 0.0959 - acc: 0.9690 - val_loss: 0.0277 - val_acc: 0.9400\n",
            "Epoch 6/100\n",
            "100/100 [==============================] - 18s 178ms/step - loss: 0.0907 - acc: 0.9650 - val_loss: 0.0704 - val_acc: 0.9300\n",
            "Epoch 7/100\n",
            "100/100 [==============================] - 18s 180ms/step - loss: 0.0987 - acc: 0.9640 - val_loss: 0.1407 - val_acc: 0.9460\n",
            "Epoch 8/100\n",
            "100/100 [==============================] - 18s 175ms/step - loss: 0.1004 - acc: 0.9655 - val_loss: 0.0298 - val_acc: 0.9420\n",
            "Epoch 9/100\n",
            "100/100 [==============================] - 18s 177ms/step - loss: 0.0744 - acc: 0.9715 - val_loss: 0.0012 - val_acc: 0.9420\n",
            "Epoch 10/100\n",
            "100/100 [==============================] - 18s 178ms/step - loss: 0.0768 - acc: 0.9725 - val_loss: 0.5728 - val_acc: 0.9410\n",
            "Epoch 11/100\n",
            "100/100 [==============================] - 18s 177ms/step - loss: 0.0831 - acc: 0.9700 - val_loss: 0.0525 - val_acc: 0.9500\n",
            "Epoch 12/100\n",
            "100/100 [==============================] - 17s 174ms/step - loss: 0.0942 - acc: 0.9650 - val_loss: 0.1585 - val_acc: 0.9430\n",
            "Epoch 13/100\n",
            "100/100 [==============================] - 18s 177ms/step - loss: 0.0798 - acc: 0.9695 - val_loss: 0.1280 - val_acc: 0.9360\n",
            "Epoch 14/100\n",
            "100/100 [==============================] - 18s 176ms/step - loss: 0.0887 - acc: 0.9675 - val_loss: 0.2191 - val_acc: 0.9380\n",
            "Epoch 15/100\n",
            "100/100 [==============================] - 18s 178ms/step - loss: 0.0749 - acc: 0.9675 - val_loss: 0.0454 - val_acc: 0.9360\n",
            "Epoch 16/100\n",
            "100/100 [==============================] - 18s 176ms/step - loss: 0.0745 - acc: 0.9745 - val_loss: 0.3390 - val_acc: 0.9320\n",
            "Epoch 17/100\n",
            "100/100 [==============================] - 18s 179ms/step - loss: 0.0767 - acc: 0.9715 - val_loss: 0.1073 - val_acc: 0.9420\n",
            "Epoch 18/100\n",
            "100/100 [==============================] - 18s 177ms/step - loss: 0.0813 - acc: 0.9740 - val_loss: 0.1384 - val_acc: 0.9340\n",
            "Epoch 19/100\n",
            "100/100 [==============================] - 18s 178ms/step - loss: 0.0709 - acc: 0.9725 - val_loss: 1.0167 - val_acc: 0.9300\n",
            "Epoch 20/100\n",
            "100/100 [==============================] - 18s 178ms/step - loss: 0.0894 - acc: 0.9700 - val_loss: 0.9422 - val_acc: 0.9340\n",
            "Epoch 21/100\n",
            "100/100 [==============================] - 17s 174ms/step - loss: 0.0874 - acc: 0.9690 - val_loss: 0.0517 - val_acc: 0.9330\n",
            "Epoch 22/100\n",
            "100/100 [==============================] - 17s 173ms/step - loss: 0.0820 - acc: 0.9715 - val_loss: 0.2128 - val_acc: 0.9250\n",
            "Epoch 23/100\n",
            "100/100 [==============================] - 17s 174ms/step - loss: 0.0727 - acc: 0.9730 - val_loss: 0.1985 - val_acc: 0.9270\n",
            "Epoch 24/100\n",
            "100/100 [==============================] - 17s 175ms/step - loss: 0.0872 - acc: 0.9690 - val_loss: 0.8374 - val_acc: 0.9490\n",
            "Epoch 25/100\n",
            "100/100 [==============================] - 17s 173ms/step - loss: 0.0785 - acc: 0.9750 - val_loss: 0.1312 - val_acc: 0.9350\n",
            "Epoch 26/100\n",
            "100/100 [==============================] - 17s 172ms/step - loss: 0.0741 - acc: 0.9720 - val_loss: 0.1760 - val_acc: 0.9380\n",
            "Epoch 27/100\n",
            "100/100 [==============================] - 17s 173ms/step - loss: 0.0906 - acc: 0.9615 - val_loss: 0.1020 - val_acc: 0.9460\n",
            "Epoch 28/100\n",
            "100/100 [==============================] - 17s 172ms/step - loss: 0.0769 - acc: 0.9690 - val_loss: 0.1254 - val_acc: 0.9270\n",
            "Epoch 29/100\n",
            "100/100 [==============================] - 17s 174ms/step - loss: 0.0928 - acc: 0.9675 - val_loss: 0.0574 - val_acc: 0.9430\n",
            "Epoch 30/100\n",
            "100/100 [==============================] - 17s 172ms/step - loss: 0.0619 - acc: 0.9760 - val_loss: 0.1397 - val_acc: 0.9260\n",
            "Epoch 31/100\n",
            "100/100 [==============================] - 17s 172ms/step - loss: 0.0881 - acc: 0.9700 - val_loss: 0.2068 - val_acc: 0.9300\n",
            "Epoch 32/100\n",
            "100/100 [==============================] - 17s 172ms/step - loss: 0.0916 - acc: 0.9600 - val_loss: 0.5918 - val_acc: 0.9270\n",
            "Epoch 33/100\n",
            "100/100 [==============================] - 17s 171ms/step - loss: 0.0787 - acc: 0.9700 - val_loss: 0.4894 - val_acc: 0.9210\n",
            "Epoch 34/100\n",
            "100/100 [==============================] - 17s 172ms/step - loss: 0.0830 - acc: 0.9685 - val_loss: 0.0044 - val_acc: 0.9410\n",
            "Epoch 35/100\n",
            "100/100 [==============================] - 17s 172ms/step - loss: 0.0770 - acc: 0.9700 - val_loss: 0.3140 - val_acc: 0.9200\n",
            "Epoch 36/100\n",
            "100/100 [==============================] - 17s 171ms/step - loss: 0.0585 - acc: 0.9820 - val_loss: 0.1134 - val_acc: 0.9400\n",
            "Epoch 37/100\n",
            "100/100 [==============================] - 17s 173ms/step - loss: 0.0702 - acc: 0.9750 - val_loss: 0.3441 - val_acc: 0.9460\n",
            "Epoch 38/100\n",
            "100/100 [==============================] - 17s 173ms/step - loss: 0.0835 - acc: 0.9660 - val_loss: 0.2575 - val_acc: 0.9370\n",
            "Epoch 39/100\n",
            "100/100 [==============================] - 17s 171ms/step - loss: 0.0706 - acc: 0.9735 - val_loss: 0.0398 - val_acc: 0.9360\n",
            "Epoch 40/100\n",
            "100/100 [==============================] - 17s 171ms/step - loss: 0.1064 - acc: 0.9640 - val_loss: 0.0022 - val_acc: 0.9430\n",
            "Epoch 41/100\n",
            "100/100 [==============================] - 17s 170ms/step - loss: 0.0757 - acc: 0.9755 - val_loss: 0.4893 - val_acc: 0.9390\n",
            "Epoch 42/100\n",
            "100/100 [==============================] - 17s 171ms/step - loss: 0.0794 - acc: 0.9700 - val_loss: 0.0112 - val_acc: 0.9380\n",
            "Epoch 43/100\n",
            "100/100 [==============================] - 17s 172ms/step - loss: 0.0819 - acc: 0.9690 - val_loss: 0.0366 - val_acc: 0.9370\n",
            "Epoch 44/100\n",
            "100/100 [==============================] - 17s 170ms/step - loss: 0.0830 - acc: 0.9720 - val_loss: 0.4668 - val_acc: 0.9410\n",
            "Epoch 45/100\n",
            "100/100 [==============================] - 17s 171ms/step - loss: 0.0825 - acc: 0.9705 - val_loss: 0.1537 - val_acc: 0.9420\n",
            "Epoch 46/100\n",
            "100/100 [==============================] - 17s 170ms/step - loss: 0.0687 - acc: 0.9765 - val_loss: 0.2240 - val_acc: 0.9330\n",
            "Epoch 47/100\n",
            "100/100 [==============================] - 17s 171ms/step - loss: 0.0899 - acc: 0.9690 - val_loss: 0.4087 - val_acc: 0.9390\n",
            "Epoch 48/100\n",
            "100/100 [==============================] - 17s 173ms/step - loss: 0.0604 - acc: 0.9795 - val_loss: 0.5618 - val_acc: 0.9490\n",
            "Epoch 49/100\n",
            "100/100 [==============================] - 17s 171ms/step - loss: 0.0800 - acc: 0.9710 - val_loss: 0.1302 - val_acc: 0.9410\n",
            "Epoch 50/100\n",
            "100/100 [==============================] - 17s 171ms/step - loss: 0.0466 - acc: 0.9825 - val_loss: 0.2016 - val_acc: 0.9400\n",
            "Epoch 51/100\n",
            "100/100 [==============================] - 17s 171ms/step - loss: 0.0773 - acc: 0.9695 - val_loss: 0.7226 - val_acc: 0.9350\n",
            "Epoch 52/100\n",
            "100/100 [==============================] - 17s 172ms/step - loss: 0.0667 - acc: 0.9765 - val_loss: 0.3681 - val_acc: 0.9390\n",
            "Epoch 53/100\n",
            "100/100 [==============================] - 17s 171ms/step - loss: 0.0725 - acc: 0.9725 - val_loss: 0.2271 - val_acc: 0.9310\n",
            "Epoch 54/100\n",
            "100/100 [==============================] - 17s 171ms/step - loss: 0.0740 - acc: 0.9740 - val_loss: 0.0020 - val_acc: 0.9360\n",
            "Epoch 55/100\n",
            "100/100 [==============================] - 17s 171ms/step - loss: 0.0725 - acc: 0.9765 - val_loss: 0.0639 - val_acc: 0.9340\n",
            "Epoch 56/100\n",
            "100/100 [==============================] - 17s 171ms/step - loss: 0.0737 - acc: 0.9715 - val_loss: 0.4092 - val_acc: 0.9370\n",
            "Epoch 57/100\n",
            "100/100 [==============================] - 17s 171ms/step - loss: 0.0581 - acc: 0.9785 - val_loss: 0.0737 - val_acc: 0.9320\n",
            "Epoch 58/100\n",
            "100/100 [==============================] - 17s 171ms/step - loss: 0.0740 - acc: 0.9755 - val_loss: 1.0438 - val_acc: 0.9380\n",
            "Epoch 59/100\n",
            "100/100 [==============================] - 17s 171ms/step - loss: 0.0662 - acc: 0.9775 - val_loss: 0.1299 - val_acc: 0.9340\n",
            "Epoch 60/100\n",
            "100/100 [==============================] - 17s 170ms/step - loss: 0.0583 - acc: 0.9785 - val_loss: 0.2176 - val_acc: 0.9230\n",
            "Epoch 61/100\n",
            "100/100 [==============================] - 17s 170ms/step - loss: 0.0670 - acc: 0.9745 - val_loss: 0.7504 - val_acc: 0.9330\n",
            "Epoch 62/100\n",
            "100/100 [==============================] - 17s 172ms/step - loss: 0.0814 - acc: 0.9760 - val_loss: 0.0529 - val_acc: 0.9210\n",
            "Epoch 63/100\n",
            "100/100 [==============================] - 17s 170ms/step - loss: 0.0680 - acc: 0.9760 - val_loss: 0.0431 - val_acc: 0.9340\n",
            "Epoch 64/100\n",
            "100/100 [==============================] - 17s 171ms/step - loss: 0.0604 - acc: 0.9745 - val_loss: 0.0881 - val_acc: 0.9320\n",
            "Epoch 65/100\n",
            "100/100 [==============================] - 17s 170ms/step - loss: 0.0742 - acc: 0.9730 - val_loss: 0.1112 - val_acc: 0.9310\n",
            "Epoch 66/100\n",
            "100/100 [==============================] - 17s 171ms/step - loss: 0.0796 - acc: 0.9730 - val_loss: 0.0389 - val_acc: 0.9230\n",
            "Epoch 67/100\n",
            "100/100 [==============================] - 17s 170ms/step - loss: 0.0740 - acc: 0.9770 - val_loss: 0.0724 - val_acc: 0.9250\n",
            "Epoch 68/100\n",
            "100/100 [==============================] - 17s 172ms/step - loss: 0.0679 - acc: 0.9720 - val_loss: 0.0059 - val_acc: 0.9410\n",
            "Epoch 69/100\n",
            "100/100 [==============================] - 17s 170ms/step - loss: 0.0923 - acc: 0.9705 - val_loss: 0.0113 - val_acc: 0.9350\n",
            "Epoch 70/100\n",
            "100/100 [==============================] - 17s 171ms/step - loss: 0.0598 - acc: 0.9785 - val_loss: 1.0380 - val_acc: 0.9290\n",
            "Epoch 71/100\n",
            "100/100 [==============================] - 17s 171ms/step - loss: 0.0464 - acc: 0.9855 - val_loss: 0.1201 - val_acc: 0.9330\n",
            "Epoch 72/100\n",
            "100/100 [==============================] - 17s 170ms/step - loss: 0.0667 - acc: 0.9750 - val_loss: 0.1928 - val_acc: 0.9310\n",
            "Epoch 73/100\n",
            "100/100 [==============================] - 17s 171ms/step - loss: 0.0848 - acc: 0.9740 - val_loss: 0.2997 - val_acc: 0.9340\n",
            "Epoch 74/100\n",
            "100/100 [==============================] - 17s 171ms/step - loss: 0.0776 - acc: 0.9725 - val_loss: 0.5315 - val_acc: 0.9340\n",
            "Epoch 75/100\n",
            "100/100 [==============================] - 17s 170ms/step - loss: 0.0600 - acc: 0.9775 - val_loss: 0.0647 - val_acc: 0.9390\n",
            "Epoch 76/100\n",
            "100/100 [==============================] - 17s 171ms/step - loss: 0.0504 - acc: 0.9820 - val_loss: 0.1972 - val_acc: 0.9430\n",
            "Epoch 77/100\n",
            "100/100 [==============================] - 17s 171ms/step - loss: 0.0723 - acc: 0.9750 - val_loss: 0.1271 - val_acc: 0.9360\n",
            "Epoch 78/100\n",
            "100/100 [==============================] - 17s 170ms/step - loss: 0.0698 - acc: 0.9745 - val_loss: 0.2445 - val_acc: 0.9440\n",
            "Epoch 79/100\n",
            "100/100 [==============================] - 17s 170ms/step - loss: 0.0681 - acc: 0.9755 - val_loss: 0.1644 - val_acc: 0.9500\n",
            "Epoch 80/100\n",
            "100/100 [==============================] - 17s 171ms/step - loss: 0.0689 - acc: 0.9745 - val_loss: 0.0574 - val_acc: 0.9390\n",
            "Epoch 81/100\n",
            "100/100 [==============================] - 17s 171ms/step - loss: 0.0507 - acc: 0.9830 - val_loss: 0.1853 - val_acc: 0.9350\n",
            "Epoch 82/100\n",
            "100/100 [==============================] - 17s 170ms/step - loss: 0.0912 - acc: 0.9705 - val_loss: 0.0072 - val_acc: 0.9370\n",
            "Epoch 83/100\n",
            "100/100 [==============================] - 17s 170ms/step - loss: 0.0582 - acc: 0.9815 - val_loss: 0.5041 - val_acc: 0.9360\n",
            "Epoch 84/100\n",
            "100/100 [==============================] - 17s 171ms/step - loss: 0.0681 - acc: 0.9775 - val_loss: 0.2130 - val_acc: 0.9490\n",
            "Epoch 85/100\n",
            "100/100 [==============================] - 17s 171ms/step - loss: 0.0590 - acc: 0.9765 - val_loss: 0.9196 - val_acc: 0.9380\n",
            "Epoch 86/100\n",
            "100/100 [==============================] - 17s 172ms/step - loss: 0.0543 - acc: 0.9800 - val_loss: 0.7145 - val_acc: 0.9420\n",
            "Epoch 87/100\n",
            "100/100 [==============================] - 17s 170ms/step - loss: 0.0690 - acc: 0.9785 - val_loss: 0.0292 - val_acc: 0.9430\n",
            "Epoch 88/100\n",
            "100/100 [==============================] - 17s 170ms/step - loss: 0.0874 - acc: 0.9695 - val_loss: 0.2270 - val_acc: 0.9350\n",
            "Epoch 89/100\n",
            "100/100 [==============================] - 17s 170ms/step - loss: 0.0498 - acc: 0.9785 - val_loss: 0.4421 - val_acc: 0.9410\n",
            "Epoch 90/100\n",
            "100/100 [==============================] - 17s 171ms/step - loss: 0.0617 - acc: 0.9805 - val_loss: 6.2978e-04 - val_acc: 0.9320\n",
            "Epoch 91/100\n",
            "100/100 [==============================] - 17s 170ms/step - loss: 0.0693 - acc: 0.9770 - val_loss: 0.0310 - val_acc: 0.9410\n",
            "Epoch 92/100\n",
            "100/100 [==============================] - 17s 172ms/step - loss: 0.0592 - acc: 0.9765 - val_loss: 0.1696 - val_acc: 0.9420\n",
            "Epoch 93/100\n",
            "100/100 [==============================] - 17s 170ms/step - loss: 0.0701 - acc: 0.9775 - val_loss: 0.0680 - val_acc: 0.9380\n",
            "Epoch 94/100\n",
            "100/100 [==============================] - 17s 171ms/step - loss: 0.0515 - acc: 0.9825 - val_loss: 0.1501 - val_acc: 0.9370\n",
            "Epoch 95/100\n",
            "100/100 [==============================] - 17s 172ms/step - loss: 0.0543 - acc: 0.9805 - val_loss: 0.2232 - val_acc: 0.9390\n",
            "Epoch 96/100\n",
            "100/100 [==============================] - 17s 170ms/step - loss: 0.0717 - acc: 0.9745 - val_loss: 0.0508 - val_acc: 0.9430\n",
            "Epoch 97/100\n",
            "100/100 [==============================] - 17s 171ms/step - loss: 0.0595 - acc: 0.9770 - val_loss: 0.0244 - val_acc: 0.9460\n",
            "Epoch 98/100\n",
            "100/100 [==============================] - 17s 171ms/step - loss: 0.0787 - acc: 0.9760 - val_loss: 0.8179 - val_acc: 0.9360\n",
            "Epoch 99/100\n",
            "100/100 [==============================] - 17s 171ms/step - loss: 0.0699 - acc: 0.9780 - val_loss: 0.3046 - val_acc: 0.9440\n",
            "Epoch 100/100\n",
            "100/100 [==============================] - 17s 172ms/step - loss: 0.0759 - acc: 0.9730 - val_loss: 0.0827 - val_acc: 0.9430\n"
          ],
          "name": "stdout"
        }
      ]
    },
    {
      "cell_type": "markdown",
      "metadata": {
        "id": "eVBQgh5M-Rtz",
        "colab_type": "text"
      },
      "source": [
        "## Display learning curves during fine-tuning"
      ]
    },
    {
      "cell_type": "code",
      "metadata": {
        "id": "mbkIw7Ie-NP4",
        "colab_type": "code",
        "outputId": "1547ac2e-8889-4d98-91ec-8b779053ef62",
        "colab": {
          "base_uri": "https://localhost:8080/",
          "height": 545
        }
      },
      "source": [
        "%matplotlib inline\n",
        "\n",
        "import matplotlib.pyplot as plt\n",
        "\n",
        "acc = history.history['acc']\n",
        "val_acc = history.history['val_acc']\n",
        "\n",
        "loss = history.history['loss']\n",
        "val_loss = history.history['val_loss']\n",
        "\n",
        "epochs = range(1, len(acc) + 1)\n",
        "\n",
        "# training and validation accuracy\n",
        "\n",
        "plt.plot(epochs, acc, 'bo', label='training acc')\n",
        "plt.plot(epochs, val_acc, 'b', label='validation acc')\n",
        "plt.title('training and validation accuracy')\n",
        "plt.legend()\n",
        "\n",
        "plt.figure()\n",
        "\n",
        "# training and validation loss\n",
        "\n",
        "plt.plot(epochs, loss, 'bo', label='training loss')\n",
        "plt.plot(epochs, val_loss, 'b', label='validation loss')\n",
        "plt.title('training and validation loss')\n",
        "plt.legend()\n",
        "\n",
        "plt.show()"
      ],
      "execution_count": 34,
      "outputs": [
        {
          "output_type": "display_data",
          "data": {
            "image/png": "[encoded data removed]",
            "text/plain": [
              "<Figure size 432x288 with 1 Axes>"
            ]
          },
          "metadata": {
            "tags": [],
            "needs_background": "light"
          }
        },
        {
          "output_type": "display_data",
          "data": {
            "image/png": "[encoded data removed]",
            "text/plain": [
              "<Figure size 432x288 with 1 Axes>"
            ]
          },
          "metadata": {
            "tags": [],
            "needs_background": "light"
          }
        }
      ]
    },
    {
      "cell_type": "markdown",
      "metadata": {
        "id": "obQi6N4ZShdi",
        "colab_type": "text"
      },
      "source": [
        "This looks like overfitting. I should try  adding dropout for the densely connected layer.  \n",
        "*There seems to be less overfitting in my case, but its still there. The model is also not improving very quickly. I need to find a way to increase the ability of the model to learn without adding to the overfitting problem. - Christopher Kerns*"
      ]
    },
    {
      "cell_type": "markdown",
      "metadata": {
        "id": "he3Nw6TOJwjx",
        "colab_type": "text"
      },
      "source": [
        "## Print out validation loss and accuracy"
      ]
    },
    {
      "cell_type": "code",
      "metadata": {
        "id": "SVQtrk7uJdhl",
        "colab_type": "code",
        "colab": {}
      },
      "source": [
        "val_loss, val_acc = model.evaluate_generator(validation_generator, steps=50)"
      ],
      "execution_count": 0,
      "outputs": []
    },
    {
      "cell_type": "code",
      "metadata": {
        "id": "HpdddLi1SUMe",
        "colab_type": "code",
        "outputId": "4833d820-90c6-43a0-cb61-ee91b24fa233",
        "colab": {
          "base_uri": "https://localhost:8080/",
          "height": 54
        }
      },
      "source": [
        "print(\"Validation loss:\", val_loss)\n",
        "print(\"Validation accuracy:\", val_acc)"
      ],
      "execution_count": 36,
      "outputs": [
        {
          "output_type": "stream",
          "text": [
            "Validation loss: 0.08269871026277542\n",
            "Validation accuracy: 0.9430000185966492\n"
          ],
          "name": "stdout"
        }
      ]
    },
    {
      "cell_type": "markdown",
      "metadata": {
        "id": "7Ww756WToby8",
        "colab_type": "text"
      },
      "source": [
        "## Save the model"
      ]
    },
    {
      "cell_type": "code",
      "metadata": {
        "id": "0lTUpUdwobKW",
        "colab_type": "code",
        "colab": {}
      },
      "source": [
        "model_fname = 'cats_and_dogs_small_4.h5' \n",
        "model.save(model_fname)"
      ],
      "execution_count": 0,
      "outputs": []
    },
    {
      "cell_type": "code",
      "metadata": {
        "id": "YhEoI8ZTok-X",
        "colab_type": "code",
        "colab": {}
      },
      "source": [
        "from google.colab import files\n",
        "\n",
        "with open(model_fname, 'r') as f:\n",
        "  files.download(model_fname)"
      ],
      "execution_count": 0,
      "outputs": []
    },
    {
      "cell_type": "code",
      "metadata": {
        "id": "VNEL4CCcS0Oj",
        "colab_type": "code",
        "colab": {}
      },
      "source": [
        ""
      ],
      "execution_count": 0,
      "outputs": []
    }
  ]
}
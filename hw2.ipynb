{
  "nbformat": 4,
  "nbformat_minor": 0,
  "metadata": {
    "colab": {
      "name": "hw2.ipynb",
      "provenance": [],
      "collapsed_sections": [],
      "authorship_tag": "ABX9TyMPpWryZ677EmZh/JpnDg4e",
      "include_colab_link": true
    },
    "kernelspec": {
      "name": "python3",
      "display_name": "Python 3"
    }
  },
  "cells": [
    {
      "cell_type": "markdown",
      "metadata": {
        "id": "view-in-github",
        "colab_type": "text"
      },
      "source": [
        "<a href=\"https://colab.research.google.com/github/ctkerns/cap4630_spring2020/blob/master/hw2.ipynb\" target=\"_parent\"><img src=\"https://colab.research.google.com/assets/colab-badge.svg\" alt=\"Open In Colab\"/></a>"
      ]
    },
    {
      "cell_type": "markdown",
      "metadata": {
        "id": "Cw1GbvWcvYXg",
        "colab_type": "text"
      },
      "source": [
        "##Problem 1\n",
        "###a) Find a bivariate function f1 and a point p1 such that p1 is a minimum of f1  \n",
        "\n",
        "I will use the function $f(x, y) = |x + 1| + |y + 1|$ for f1.  \n",
        "This is a simple absolute value function that is offset by -1 in each direction.  "
      ]
    },
    {
      "cell_type": "code",
      "metadata": {
        "id": "njM1TCkLzNJN",
        "colab_type": "code",
        "colab": {}
      },
      "source": [
        "import numpy as np\n",
        "def f1(x, y):\n",
        "    return np.abs(x + 1) + np.abs(y + 1)"
      ],
      "execution_count": 0,
      "outputs": []
    },
    {
      "cell_type": "markdown",
      "metadata": {
        "id": "UVQ5B3nSzhbc",
        "colab_type": "text"
      },
      "source": [
        "As a result, the minimum point p1 of this function will be (-1, -1)"
      ]
    },
    {
      "cell_type": "markdown",
      "metadata": {
        "id": "LPHVJnorz1Nz",
        "colab_type": "text"
      },
      "source": [
        "###b) Find a bivariate function f2 and a point p2 such that p2 is a maximum of f2  \n",
        "\n",
        "If a function is negated it is flipped. The minima become maxima and vice versa.  \n",
        "Therefore, by simply using the negation of f1 as f2, p1 will satisfy the condition so p2 = p1."
      ]
    },
    {
      "cell_type": "code",
      "metadata": {
        "id": "dI9yRtPA0i9d",
        "colab_type": "code",
        "colab": {}
      },
      "source": [
        "def f2(x, y):\n",
        "    return -f1(x, y)"
      ],
      "execution_count": 0,
      "outputs": []
    },
    {
      "cell_type": "markdown",
      "metadata": {
        "id": "Pmtti5qW0siX",
        "colab_type": "text"
      },
      "source": [
        "###c) Find a bivariate function f3 and a point p3 such that p3 is neither a maximum nor a minimum of f3, but the gradient of f3 at p3 is the zero vector.  \n",
        "\n",
        "$f(x, y) = x^{3} + y^{3}$ satisfies this condition. This is because the function has no absolute maxima or minima. It will tend to $\\infty$ in the (+, +) direction and $-\\infty$ in the (-, -) direction.  "
      ]
    },
    {
      "cell_type": "code",
      "metadata": {
        "id": "AIuqXpg54eD-",
        "colab_type": "code",
        "colab": {}
      },
      "source": [
        "def f3(x, y):\n",
        "    return np.power(x, 3) + np.power(y, 3)"
      ],
      "execution_count": 0,
      "outputs": []
    },
    {
      "cell_type": "markdown",
      "metadata": {
        "id": "8bi55tF84hfA",
        "colab_type": "text"
      },
      "source": [
        "The gradient of this funciton is ${\\nabla}f(x, y) = <3x^{2}, 3y^{2}> $  \n",
        "For the point (0, 0), the resulting gradient is <0, 0>, the zero vector. This will be p3."
      ]
    }
  ]
}
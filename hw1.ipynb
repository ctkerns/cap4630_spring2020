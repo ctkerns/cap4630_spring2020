{
  "nbformat": 4,
  "nbformat_minor": 0,
  "metadata": {
    "colab": {
      "name": "hw1.ipynb",
      "provenance": [],
      "authorship_tag": "ABX9TyO1xDR8TJOUeR3WPlCnOYVt",
      "include_colab_link": true
    },
    "kernelspec": {
      "name": "python3",
      "display_name": "Python 3"
    }
  },
  "cells": [
    {
      "cell_type": "markdown",
      "metadata": {
        "id": "view-in-github",
        "colab_type": "text"
      },
      "source": [
        "<a href=\"https://colab.research.google.com/github/ctkerns/cap4630_spring2020/blob/master/hw1.ipynb\" target=\"_parent\"><img src=\"https://colab.research.google.com/assets/colab-badge.svg\" alt=\"Open In Colab\"/></a>"
      ]
    },
    {
      "cell_type": "markdown",
      "metadata": {
        "id": "1XkLTjWlCHDw",
        "colab_type": "text"
      },
      "source": [
        "## Matrix compatibility\n",
        "For two matrices to be compatible when multiplying, the number of columns in the left matrix must match the number of rows in the right matrix."
      ]
    },
    {
      "cell_type": "code",
      "metadata": {
        "id": "E0jXMUEj6k5Y",
        "colab_type": "code",
        "colab": {}
      },
      "source": [
        "import numpy as np\n",
        "\n",
        "def multiply_matrices(matrix_list):\n",
        "    if (len(matrix_list) < 1)\n",
        "        return\n",
        "\n",
        "    product = matrix_list.index(0)\n",
        "\n",
        "    for (i = 1; i < len(matrix_list); i++):\n",
        "        if (product.shape()[1] = matrix_list.index(i).shape()[0]):\n",
        "            product = product.dot(matrix_list.index(i))\n",
        "        else:\n",
        "            print(\"Matrices \" + (i - 1) + \" and \" + i + \" are incompatible.\")\n",
        "            return\n",
        "\n",
        "    return product\n",
        "\n",
        "        "
      ],
      "execution_count": 0,
      "outputs": []
    }
  ]
}
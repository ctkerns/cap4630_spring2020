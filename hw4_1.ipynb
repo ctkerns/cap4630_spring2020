{
  "nbformat": 4,
  "nbformat_minor": 0,
  "metadata": {
    "colab": {
      "name": "hw4-1.ipynb",
      "provenance": [],
      "collapsed_sections": [],
      "authorship_tag": "ABX9TyOzTClQL6XazggCXArZ5536",
      "include_colab_link": true
    },
    "kernelspec": {
      "name": "python3",
      "display_name": "Python 3"
    }
  },
  "cells": [
    {
      "cell_type": "markdown",
      "metadata": {
        "id": "view-in-github",
        "colab_type": "text"
      },
      "source": [
        "<a href=\"https://colab.research.google.com/github/ctkerns/cap4630_spring2020/blob/master/hw4_1.ipynb\" target=\"_parent\"><img src=\"https://colab.research.google.com/assets/colab-badge.svg\" alt=\"Open In Colab\"/></a>"
      ]
    },
    {
      "cell_type": "markdown",
      "metadata": {
        "id": "Ji3YWuQE_3DW",
        "colab_type": "text"
      },
      "source": [
        "##Homework 4 - Problem 1"
      ]
    },
    {
      "cell_type": "code",
      "metadata": {
        "id": "ecnNmOe-ztcB",
        "colab_type": "code",
        "colab": {}
      },
      "source": [
        "import numpy as np"
      ],
      "execution_count": 0,
      "outputs": []
    },
    {
      "cell_type": "markdown",
      "metadata": {
        "id": "o6dnKXRX88Ay",
        "colab_type": "text"
      },
      "source": [
        "I'm using this function to check for edge cases. \n",
        "Any case that does not:  \n",
        "* Pass 2-dimensional matrices\n",
        "* Pass a kernel matrix that is smaller or the same size as the input matrix \n",
        "\n",
        "Will be rejected.  \n",
        "\n",
        "Consequentially 1x1 matrices will not be accepted even though they are square. I am not amending this because I think convolutional learning with either a 1x1 input or a 1x1 kernel is not useful."
      ]
    },
    {
      "cell_type": "code",
      "metadata": {
        "id": "ZpkQXMwd88u1",
        "colab_type": "code",
        "colab": {}
      },
      "source": [
        "def is_valid_case(input_mat, kernel_mat):\n",
        "    # Assert that input_mat and kernel_mat are both 2-dimensional.\n",
        "    if len(input_mat.shape) != 2 or len(kernel_mat.shape) != 2:\n",
        "        return False\n",
        "\n",
        "    # Assert that the shape of the kernel matrix is not larger than the shape of\n",
        "    # the input matrix in any dimension.\n",
        "    return input_mat.shape[0] >= kernel_mat.shape[0] or input_mat.shape[1] >= kernel_mat.shape[1]"
      ],
      "execution_count": 0,
      "outputs": []
    },
    {
      "cell_type": "markdown",
      "metadata": {
        "id": "dcIeuWICJH2S",
        "colab_type": "text"
      },
      "source": [
        "Here I have created a function to calculate the dot product of two matrices of similar shape."
      ]
    },
    {
      "cell_type": "code",
      "metadata": {
        "id": "E8OnxpaNJC8D",
        "colab_type": "code",
        "colab": {}
      },
      "source": [
        "def matrix_dot(mat1, mat2):\n",
        "    sum = 0\n",
        "\n",
        "    for i in range(len(mat1)):\n",
        "        sum += np.dot(mat1[i], mat2[i])\n",
        "\n",
        "    return sum"
      ],
      "execution_count": 0,
      "outputs": []
    },
    {
      "cell_type": "markdown",
      "metadata": {
        "id": "F-I3E5JkAryL",
        "colab_type": "text"
      },
      "source": [
        "Here I implement the function conv2d which takes the matrices input and kernel, performs a convolution, and returns the output matrix."
      ]
    },
    {
      "cell_type": "code",
      "metadata": {
        "id": "RQrAX2G8_wch",
        "colab_type": "code",
        "outputId": "62833b2d-2cd2-4ae3-9449-f326a71e83bc",
        "colab": {
          "base_uri": "https://localhost:8080/",
          "height": 36
        }
      },
      "source": [
        "def conv2d(input_mat, kernel_mat):\n",
        "    # Check edge case.\n",
        "    if not is_valid_case(input_mat, kernel_mat):\n",
        "        return np.array([])\n",
        "\n",
        "    # Find m and n, where m is the number of rows and n is the number of columns.\n",
        "    input_m = len(input_mat)\n",
        "    kernel_m = len(kernel_mat)\n",
        "    input_n = len(input_mat[0])\n",
        "    kernel_n = len(kernel_mat[0])\n",
        "\n",
        "    # Flip the kernel on both axes.\n",
        "    np.flip(kernel_mat, 0)\n",
        "    np.flip(kernel_mat, 1)\n",
        "\n",
        "    # Perform the convolution.\n",
        "    output_mat = []\n",
        "\n",
        "    for i in range(input_m - kernel_m + 1):\n",
        "        output_mat.append([])\n",
        "        for j in range(input_n - kernel_n + 1):\n",
        "            # Find the valid submatrix then calculate the dot product\n",
        "            dot = matrix_dot(input_mat[i : i + kernel_m, j : j + kernel_n], kernel_mat)\n",
        "\n",
        "            output_mat[i].append(dot)\n",
        "\n",
        "    return output_mat"
      ],
      "execution_count": 50,
      "outputs": [
        {
          "output_type": "stream",
          "text": [
            "[[2, 4, 2], [4, 2, 4], [2, 4, 2]]\n"
          ],
          "name": "stdout"
        }
      ]
    }
  ]
}
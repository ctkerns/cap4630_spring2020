{
  "nbformat": 4,
  "nbformat_minor": 0,
  "metadata": {
    "colab": {
      "name": "hw3.ipynb",
      "provenance": [],
      "collapsed_sections": [],
      "authorship_tag": "ABX9TyPVZexgAsCWFoVmWNv/T57N",
      "include_colab_link": true
    },
    "kernelspec": {
      "name": "python3",
      "display_name": "Python 3"
    }
  },
  "cells": [
    {
      "cell_type": "markdown",
      "metadata": {
        "id": "view-in-github",
        "colab_type": "text"
      },
      "source": [
        "<a href=\"https://colab.research.google.com/github/ctkerns/cap4630_spring2020/blob/master/hw3.ipynb\" target=\"_parent\"><img src=\"https://colab.research.google.com/assets/colab-badge.svg\" alt=\"Open In Colab\"/></a>"
      ]
    },
    {
      "cell_type": "code",
      "metadata": {
        "id": "ojDra26gG1tA",
        "colab_type": "code",
        "colab": {}
      },
      "source": [
        "import numpy as np\n",
        "%matplotlib inline\n",
        "import matplotlib.pyplot as plt\n",
        "\n",
        "%tensorflow_version 2.x\n",
        "import tensorflow as tf\n",
        "from tensorflow import keras"
      ],
      "execution_count": 0,
      "outputs": []
    },
    {
      "cell_type": "markdown",
      "metadata": {
        "id": "IPGvciRQGOXN",
        "colab_type": "text"
      },
      "source": [
        "##Problem 1"
      ]
    },
    {
      "cell_type": "code",
      "metadata": {
        "id": "jnGcrV2tD18q",
        "colab_type": "code",
        "colab": {}
      },
      "source": [
        "_w = 10\n",
        "_mu = 4\n",
        "\n",
        "def get_random_data(w, b, mu, sigma, m):\n",
        "    data = []\n",
        "    labels = []\n",
        "\n",
        "    for i in range(m):\n",
        "        # c chosen with equal probability of 0 and 1\n",
        "        c = np.floor(np.random.rand()*2)\n",
        "        labels.append(c)\n",
        "\n",
        "        # choose n as noise with mean mu and standard deviation sigma\n",
        "        n = np.random.normal(mu, sigma)\n",
        "\n",
        "        # calculate data x_1 and x_2\n",
        "        x_1 = np.random.rand()\n",
        "        x_2 = w*x_1 + b + (-1)**c*n\n",
        "        data.append([x_1, x_2])\n",
        "\n",
        "    return data, labels\n",
        "\n",
        "def display_random_data(data, labels):\n",
        "    for i, point in enumerate(data):\n",
        "        if labels[i] == 0:\n",
        "            plt.scatter(point[0], point[1], color='blue')\n",
        "        elif labels[i] == 1:\n",
        "            plt.scatter(point[0], point[1], color='red')\n",
        "\n",
        "# generate separate sets of training and testing data\n",
        "training = get_random_data(_w, 0, _mu, 1, 160)\n",
        "test = get_random_data(_w, 0, _mu, 1, 40)"
      ],
      "execution_count": 0,
      "outputs": []
    },
    {
      "cell_type": "markdown",
      "metadata": {
        "id": "LaYrSOqi324I",
        "colab_type": "text"
      },
      "source": [
        "##Problem 2\n",
        "Train the network"
      ]
    },
    {
      "cell_type": "code",
      "metadata": {
        "id": "YyKzhzWu36YV",
        "colab_type": "code",
        "colab": {}
      },
      "source": [
        "# create the network\n",
        "network = tf.keras.models.Sequential()\n",
        "\n",
        "output_layer = tf.keras.layers.Dense(units=1, activation='relu')\n",
        "network.add(output_layer)\n",
        "\n",
        "network.compile(optimizer='rmsprop', loss='binary_crossentropy', metrics=['accuracy'])\n",
        "\n",
        "# train the network\n",
        "history = network.fit(training[0], training[1], epochs=500, batch_size=8)"
      ],
      "execution_count": 0,
      "outputs": []
    },
    {
      "cell_type": "markdown",
      "metadata": {
        "id": "munmVF6Dj3O3",
        "colab_type": "text"
      },
      "source": [
        "###Scatterplot\n",
        "\n",
        "The network will take the two inputs and multiply them each by a weight.\n",
        "\n",
        "$x_2w_2 = x_1w_1\\quad\\Rightarrow\\quad\\dfrac{x_2}{x_1} = \\dfrac{w_1}{w_2}$  \n",
        "\n",
        "The original equation was:  \n",
        "\n",
        "$x_2 = x_1w\\quad\\Rightarrow\\quad w=\\dfrac{x_2}{x_1}$  \n",
        "\n",
        "Substituting $\\dfrac{x_2}{x_1}$ from the network equation gives:  \n",
        "\n",
        "$w = \\dfrac{w_1}{w_2}$  \n",
        "\n",
        "Therefore, the slope of the model's line will be the first weight divided by the second weight.  \n",
        "\n",
        "Black line: Seperating line of the training data.  \n",
        "Green line: Seperating line of the model.  \n",
        "Blue dot: c = 0\n",
        "Red dot: c = 1\n"
      ]
    },
    {
      "cell_type": "code",
      "metadata": {
        "id": "6d5n92G9f9qC",
        "colab_type": "code",
        "outputId": "2d0ecefa-b865-42fb-f63f-5f868549c543",
        "colab": {
          "base_uri": "https://localhost:8080/",
          "height": 340
        }
      },
      "source": [
        "# display the separating lines\n",
        "display_random_data(training[0], training[1])\n",
        "plt.plot([0, 1], [0, _w], color='black')\n",
        "\n",
        "model_weight = output_layer.get_weights()\n",
        "slope = np.abs(model_weight[0][0]/model_weight[0][1])\n",
        "intercept = model_weight[1][0]\n",
        "plt.plot([0, 1], [intercept, intercept + slope], color='green')\n",
        "\n",
        "print(model_weight[0][0])\n",
        "print(model_weight[0][1])\n",
        "print(model_weight[1][0])\n",
        "\n",
        "print(network.predict([[0, 5]]))"
      ],
      "execution_count": 37,
      "outputs": [
        {
          "output_type": "stream",
          "text": [
            "[2.3002403]\n",
            "[-0.3263315]\n",
            "0.8915205\n",
            "[[0.]]\n"
          ],
          "name": "stdout"
        },
        {
          "output_type": "display_data",
          "data": {
            "image/png": "[encoded data removed]",
            "text/plain": [
              "<Figure size 432x288 with 1 Axes>"
            ]
          },
          "metadata": {
            "tags": [],
            "needs_background": "light"
          }
        }
      ]
    },
    {
      "cell_type": "markdown",
      "metadata": {
        "id": "iIFmL00BqHdd",
        "colab_type": "text"
      },
      "source": [
        "###Heatmap"
      ]
    },
    {
      "cell_type": "code",
      "metadata": {
        "id": "J8ubJZ24qMTU",
        "colab_type": "code",
        "outputId": "1841b9bb-c225-46de-9bd2-e474bee29127",
        "colab": {
          "base_uri": "https://localhost:8080/",
          "height": 269
        }
      },
      "source": [
        "startX = 0\n",
        "endX = 1\n",
        "startY = -5\n",
        "endY = 15\n",
        "\n",
        "xRange = endX - startX\n",
        "yRange = endY - startY\n",
        "\n",
        "density = 20\n",
        "\n",
        "sample = []\n",
        "for i in range(density):\n",
        "    sample.append([])\n",
        "    y = startY + i*(yRange/density)\n",
        "    for j in range(density):\n",
        "        # interpolate to find values for x, y\n",
        "        x = startX + j*(xRange/density)\n",
        "        value = network.predict([[x, y]])\n",
        "        sample[i].append(value[0][0])\n",
        "\n",
        "plt.imshow(sample, extent=[startX, endX, startY, endY], aspect='auto', origin='lower', cmap='hot', interpolation='nearest')\n",
        "plt.show()\n"
      ],
      "execution_count": 52,
      "outputs": [
        {
          "output_type": "display_data",
          "data": {
            "image/png": "[encoded data removed]",
            "text/plain": [
              "<Figure size 432x288 with 1 Axes>"
            ]
          },
          "metadata": {
            "tags": [],
            "needs_background": "light"
          }
        }
      ]
    },
    {
      "cell_type": "markdown",
      "metadata": {
        "id": "dYDdIYGkDhjN",
        "colab_type": "text"
      },
      "source": [
        "##Problem 3"
      ]
    },
    {
      "cell_type": "code",
      "metadata": {
        "id": "MNuFEgPMDp5H",
        "colab_type": "code",
        "colab": {
          "base_uri": "https://localhost:8080/",
          "height": 36
        },
        "outputId": "148756f6-535c-4c27-ce15-66bb6b8d2edd"
      },
      "source": [
        ""
      ],
      "execution_count": 51,
      "outputs": [
        {
          "output_type": "stream",
          "text": [
            "0.0\n"
          ],
          "name": "stdout"
        }
      ]
    }
  ]
}